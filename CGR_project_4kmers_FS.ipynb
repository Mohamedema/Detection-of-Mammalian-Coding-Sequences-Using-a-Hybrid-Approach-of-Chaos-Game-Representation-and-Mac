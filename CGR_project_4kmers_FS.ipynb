{
  "nbformat": 4,
  "nbformat_minor": 0,
  "metadata": {
    "colab": {
      "name": "CGR_project_4kmers_FS.ipynb",
      "provenance": []
    },
    "kernelspec": {
      "display_name": "Python 3",
      "language": "python",
      "name": "python3"
    },
    "language_info": {
      "codemirror_mode": {
        "name": "ipython",
        "version": 3
      },
      "file_extension": ".py",
      "mimetype": "text/x-python",
      "name": "python",
      "nbconvert_exporter": "python",
      "pygments_lexer": "ipython3",
      "version": "3.7.3"
    }
  },
  "cells": [
    {
      "cell_type": "markdown",
      "metadata": {
        "id": "4RwUrCdZrFNp"
      },
      "source": [
        "# ***C/NC DNA Detecting Code***\n",
        "\n",
        "---\n",
        "\n",
        "\n",
        "\n",
        "> This code to detect the coding and noncoding sequances (4-kmers) using chaos game representation, Chaos game representation (CGR) is an iterative mapping technique that assigns each nucleotide in a DNA sequence to a respective position on the plane in a one-to-one manner. "
      ]
    },
    {
      "cell_type": "code",
      "metadata": {
        "id": "WC6O1E3MmPCK"
      },
      "source": [
        "%matplotlib inline\n",
        "import numpy as np\n",
        "import os\n",
        "import imageio\n",
        "import matplotlib.pylab as plt\n",
        "import math\n",
        "import pandas as pd\n",
        "from pathlib import Path\n",
        "import matplotlib.cm as cm\n",
        "import seaborn as sn\n",
        "from sklearn.model_selection import cross_val_score\n",
        "from sklearn.model_selection import train_test_split\n",
        "from IPython.core.interactiveshell import InteractiveShell\n",
        "InteractiveShell.ast_node_interactivity = \"all\"\n"
      ],
      "execution_count": 24,
      "outputs": []
    },
    {
      "cell_type": "code",
      "metadata": {
        "id": "Tppjl72LktYk",
        "colab": {
          "base_uri": "https://localhost:8080/"
        },
        "outputId": "4a323479-34b7-4d82-a587-faa542407a12"
      },
      "source": [
        "#Retrieve_the_data\n",
        "from google.colab import drive\n",
        "drive.mount('/content/drive')"
      ],
      "execution_count": 2,
      "outputs": [
        {
          "output_type": "stream",
          "text": [
            "Mounted at /content/drive\n"
          ],
          "name": "stdout"
        }
      ]
    },
    {
      "cell_type": "code",
      "metadata": {
        "id": "lo7KJ-z9hUbl"
      },
      "source": [
        "import time\n",
        "start = time.time()"
      ],
      "execution_count": 124,
      "outputs": []
    },
    {
      "cell_type": "markdown",
      "metadata": {
        "id": "wDMGbb8LRgz7"
      },
      "source": [
        "after start anything, AND and after get data from NCBI we must create two lists : \n",
        "\n",
        "---\n",
        "\n",
        "\n",
        "\n",
        "1. inp_out_needed list : contains all data frame that, we will create in the next step that contain coding & noncoding of train & test cgr images.\n",
        "\n",
        "2. paths list : that contain path of each data (coding & noncoding of train & test cgr images) on your google drive.\n",
        "\n",
        "\n",
        " "
      ]
    },
    {
      "cell_type": "code",
      "metadata": {
        "id": "49rzQUhlB7Nu"
      },
      "source": [
        "inp_out_needed=['data_coding_df1','data_noncoding_df1','data_coding_df1','data_noncoding_df1']\n",
        "paths={'data_coding_df1':'/content/drive/My Drive/project/new_CGR_data/coding_seq','data_noncoding_df1':'/content/drive/My Drive/project/new_CGR_data/non_codingseq'}"
      ],
      "execution_count": 125,
      "outputs": []
    },
    {
      "cell_type": "code",
      "metadata": {
        "id": "mnvVW912B7jE"
      },
      "source": [
        "# df_image is a subfunction to create data frame from read each CGR image where each row is one image"
      ],
      "execution_count": null,
      "outputs": []
    },
    {
      "cell_type": "code",
      "metadata": {
        "id": "s5_ts-YkB7yJ"
      },
      "source": [
        "def df_image(Images):\n",
        "  Images1=sorted(Images) # sort them ascendingly \n",
        "  ImagF=np.zeros((len(Images),497664))  # All Images\n",
        "  for i in range(len(Images1)):\n",
        "      ImagF_1=imageio.imread(Images1[i])\n",
        "      ImagF[i,:]=ImagF_1.reshape((1,497664))\n",
        "  return pd.DataFrame(ImagF)"
      ],
      "execution_count": 126,
      "outputs": []
    },
    {
      "cell_type": "markdown",
      "metadata": {
        "id": "u3ihN3LcJpXF"
      },
      "source": [
        "***Second*** : Assgin class to coding and noncoding images to can make classification"
      ]
    },
    {
      "cell_type": "code",
      "metadata": {
        "id": "y0OGITH1B8DX"
      },
      "source": [
        "# clas_assign is a subfunction to assign class 1 (one) to each coding cgr images data frame and class 0 (zero) to  noncoding cgr images data frame"
      ],
      "execution_count": null,
      "outputs": []
    },
    {
      "cell_type": "code",
      "metadata": {
        "id": "iKXOjexjB8Sa"
      },
      "source": [
        "def clas_assign(Images,c,b):\n",
        "  c= df_image(Images)\n",
        "  if b.split('_')[1] =='coding':\n",
        "    c['y']=np.ones((len(c)))\n",
        "  elif b.split('_')[1] =='noncoding':\n",
        "    c['y']=np.zeros((len(c)))\n",
        "  return c"
      ],
      "execution_count": 127,
      "outputs": []
    },
    {
      "cell_type": "code",
      "metadata": {
        "id": "0-TyPYc8B8fy"
      },
      "source": [
        "#A- For loop to make data frame from taking different types of images (coding & noncoding) from different folder (tain & test)  "
      ],
      "execution_count": null,
      "outputs": []
    },
    {
      "cell_type": "code",
      "metadata": {
        "id": "wfolnJN_B8uZ"
      },
      "source": [
        "for c in inp_out_needed:\n",
        "  b=c\n",
        "  home_path = os.getcwd()\n",
        "  path=paths[c]\n",
        "  os.chdir(path)\n",
        "  Images=os.listdir()\n",
        "  exec('{} = clas_assign(Images,c,b)'.format(c))"
      ],
      "execution_count": 128,
      "outputs": []
    },
    {
      "cell_type": "code",
      "metadata": {
        "id": "CsBeSmTlG01L"
      },
      "source": [
        "# B- Merge codind & noncoding traing data (after assign class to each one ) in one train data frame and\n",
        "# codind & noncoding testing data (after assign class to each one ) in one test data frame "
      ],
      "execution_count": null,
      "outputs": []
    },
    {
      "cell_type": "code",
      "metadata": {
        "id": "P5rK3ebmG1Bv"
      },
      "source": [
        "# merge coding sequence of train data to noncoding sequence of train data to obtain training sequence data frame\n",
        "data_coding_noncoding1=pd.concat([data_coding_df1,data_noncoding_df1])"
      ],
      "execution_count": 129,
      "outputs": []
    },
    {
      "cell_type": "code",
      "metadata": {
        "id": "GK4pIkLe2F0k"
      },
      "source": [
        "# C - split train dataframe (from step B ) to X_train (data) & y_train (labeles) variables to can start machine learning classification"
      ],
      "execution_count": null,
      "outputs": []
    },
    {
      "cell_type": "code",
      "metadata": {
        "id": "gUQnB8wVBlLm"
      },
      "source": [
        "X=data_coding_noncoding1.iloc[:,:-1]\n",
        "y=data_coding_noncoding1.iloc[:,-1]\n",
        "X_train_after_pca, X_test_after_pca, y_train, y_test = train_test_split(X, y, test_size=0.20, random_state=42)"
      ],
      "execution_count": 130,
      "outputs": []
    },
    {
      "cell_type": "code",
      "metadata": {
        "id": "HmCcvqk4-Ghj",
        "colab": {
          "base_uri": "https://localhost:8080/"
        },
        "outputId": "76e10d86-205c-41f0-e0d5-d4038ee6f7e2"
      },
      "source": [
        "# Reduce Dimension\n",
        "from sklearn import decomposition\n",
        "pca = decomposition.PCA(n_components=100, whiten=True)\n",
        "pca.fit(X_train_after_pca)"
      ],
      "execution_count": 131,
      "outputs": [
        {
          "output_type": "execute_result",
          "data": {
            "text/plain": [
              "PCA(copy=True, iterated_power='auto', n_components=100, random_state=None,\n",
              "    svd_solver='auto', tol=0.0, whiten=True)"
            ]
          },
          "metadata": {
            "tags": []
          },
          "execution_count": 131
        }
      ]
    },
    {
      "cell_type": "code",
      "metadata": {
        "id": "OVcLeLNQ_kg4"
      },
      "source": [
        "X_train = pca.transform(X_train_after_pca)\n",
        "X_test = pca.transform(X_test_after_pca)"
      ],
      "execution_count": 132,
      "outputs": []
    },
    {
      "cell_type": "code",
      "metadata": {
        "id": "GrBIKC2cz-do"
      },
      "source": [
        "df_resultcol=['NaiveBayes','logistic regression','KNN','Perceptron','SVM','Ensemble']\n",
        "df_resultrow=['Accuracy','Specificity','Precision','Sensitivity']"
      ],
      "execution_count": 133,
      "outputs": []
    },
    {
      "cell_type": "code",
      "metadata": {
        "id": "8sYsgkq24xXq",
        "colab": {
          "base_uri": "https://localhost:8080/",
          "height": 173
        },
        "outputId": "d7460e0f-49ac-4811-8158-4044dff4f02e"
      },
      "source": [
        "df_result_=pd.DataFrame(columns=df_resultcol,index=df_resultrow)\n",
        "df_result_"
      ],
      "execution_count": 134,
      "outputs": [
        {
          "output_type": "execute_result",
          "data": {
            "text/html": [
              "<div>\n",
              "<style scoped>\n",
              "    .dataframe tbody tr th:only-of-type {\n",
              "        vertical-align: middle;\n",
              "    }\n",
              "\n",
              "    .dataframe tbody tr th {\n",
              "        vertical-align: top;\n",
              "    }\n",
              "\n",
              "    .dataframe thead th {\n",
              "        text-align: right;\n",
              "    }\n",
              "</style>\n",
              "<table border=\"1\" class=\"dataframe\">\n",
              "  <thead>\n",
              "    <tr style=\"text-align: right;\">\n",
              "      <th></th>\n",
              "      <th>NaiveBayes</th>\n",
              "      <th>logistic regression</th>\n",
              "      <th>KNN</th>\n",
              "      <th>Perceptron</th>\n",
              "      <th>SVM</th>\n",
              "      <th>Ensemble</th>\n",
              "    </tr>\n",
              "  </thead>\n",
              "  <tbody>\n",
              "    <tr>\n",
              "      <th>Accuracy</th>\n",
              "      <td>NaN</td>\n",
              "      <td>NaN</td>\n",
              "      <td>NaN</td>\n",
              "      <td>NaN</td>\n",
              "      <td>NaN</td>\n",
              "      <td>NaN</td>\n",
              "    </tr>\n",
              "    <tr>\n",
              "      <th>Specificity</th>\n",
              "      <td>NaN</td>\n",
              "      <td>NaN</td>\n",
              "      <td>NaN</td>\n",
              "      <td>NaN</td>\n",
              "      <td>NaN</td>\n",
              "      <td>NaN</td>\n",
              "    </tr>\n",
              "    <tr>\n",
              "      <th>Precision</th>\n",
              "      <td>NaN</td>\n",
              "      <td>NaN</td>\n",
              "      <td>NaN</td>\n",
              "      <td>NaN</td>\n",
              "      <td>NaN</td>\n",
              "      <td>NaN</td>\n",
              "    </tr>\n",
              "    <tr>\n",
              "      <th>Sensitivity</th>\n",
              "      <td>NaN</td>\n",
              "      <td>NaN</td>\n",
              "      <td>NaN</td>\n",
              "      <td>NaN</td>\n",
              "      <td>NaN</td>\n",
              "      <td>NaN</td>\n",
              "    </tr>\n",
              "  </tbody>\n",
              "</table>\n",
              "</div>"
            ],
            "text/plain": [
              "            NaiveBayes logistic regression  KNN Perceptron  SVM Ensemble\n",
              "Accuracy           NaN                 NaN  NaN        NaN  NaN      NaN\n",
              "Specificity        NaN                 NaN  NaN        NaN  NaN      NaN\n",
              "Precision          NaN                 NaN  NaN        NaN  NaN      NaN\n",
              "Sensitivity        NaN                 NaN  NaN        NaN  NaN      NaN"
            ]
          },
          "metadata": {
            "tags": []
          },
          "execution_count": 134
        }
      ]
    },
    {
      "cell_type": "code",
      "metadata": {
        "id": "V2uFGFtf-F98"
      },
      "source": [
        "# F- Statistical Data Analysis after Scalling:"
      ],
      "execution_count": null,
      "outputs": []
    },
    {
      "cell_type": "markdown",
      "metadata": {
        "id": "RraTMda3PGXl"
      },
      "source": [
        "Apply different type of classification :\n",
        "\n",
        "1- Naive Bayes Classifier (supervised linear classifier)\n",
        "\n",
        "2- Logistic regression (supervised linear classifier)\n",
        "\n",
        "3- k-nearst neighbor classifier ( supervised nonlinear classifier)\n",
        "\n",
        "4- perceptron (supervised linear classifier)\n",
        "\n",
        "5- SVM (Support Vector Machine ) (supervised classifier)\n",
        "\n"
      ]
    },
    {
      "cell_type": "code",
      "metadata": {
        "id": "CjLik5cxLXBo"
      },
      "source": [
        "#1- Naive Bayes Classifier"
      ],
      "execution_count": null,
      "outputs": []
    },
    {
      "cell_type": "code",
      "metadata": {
        "id": "0U5wv0HcwVYI"
      },
      "source": [
        "# E- feature scaling\n",
        "from sklearn.preprocessing import StandardScaler\n",
        "sc= StandardScaler()\n",
        "X_train=sc.fit_transform(X_train)\n",
        "X_test=sc.transform(X_test)"
      ],
      "execution_count": 135,
      "outputs": []
    },
    {
      "cell_type": "code",
      "metadata": {
        "id": "4r69jARAl2lK",
        "colab": {
          "base_uri": "https://localhost:8080/"
        },
        "outputId": "365843b5-078e-456f-f89d-dd685498b650"
      },
      "source": [
        "#Import Gaussian Naive Bayes model\n",
        "from sklearn.naive_bayes import GaussianNB\n",
        "\n",
        "#Create a Gaussian Classifier\n",
        "model_n = GaussianNB()\n",
        "\n",
        "# Train the model using the training sets\n",
        "model_n.fit(X_train, y_train)\n",
        "\n",
        "#Predict Output\n",
        "y_pred_nai = model_n.predict(X_test) "
      ],
      "execution_count": 136,
      "outputs": [
        {
          "output_type": "execute_result",
          "data": {
            "text/plain": [
              "GaussianNB(priors=None, var_smoothing=1e-09)"
            ]
          },
          "metadata": {
            "tags": []
          },
          "execution_count": 136
        }
      ]
    },
    {
      "cell_type": "code",
      "metadata": {
        "id": "uuBkSeuIl26R",
        "colab": {
          "base_uri": "https://localhost:8080/"
        },
        "outputId": "76ee0e04-8886-43fb-e364-87447842b98a"
      },
      "source": [
        "# confusion matrix\n",
        "os.chdir(home_path)\n",
        "from sklearn.metrics import confusion_matrix\n",
        "cm_naiv=confusion_matrix(y_test,y_pred_nai)\n",
        "cm_naiv"
      ],
      "execution_count": 137,
      "outputs": [
        {
          "output_type": "execute_result",
          "data": {
            "text/plain": [
              "array([[32,  1],\n",
              "       [ 3, 42]])"
            ]
          },
          "metadata": {
            "tags": []
          },
          "execution_count": 137
        }
      ]
    },
    {
      "cell_type": "code",
      "metadata": {
        "id": "Aq0gJdTcJVUT",
        "colab": {
          "base_uri": "https://localhost:8080/"
        },
        "outputId": "49c9275c-710a-49b9-d2e4-c939d6a9473d"
      },
      "source": [
        "#Sensitivity_(True positive rate TPR) \n",
        "TP_nav= cm_naiv[0][0]\n",
        "FN_nav= cm_naiv[1][0]\n",
        "TPR_nav= TP_nav/(TP_nav+FN_nav) * 100\n",
        "print(\"Sensitivity \"+str(TPR_nav)+'%')"
      ],
      "execution_count": 138,
      "outputs": [
        {
          "output_type": "stream",
          "text": [
            "Sensitivity 91.42857142857143%\n"
          ],
          "name": "stdout"
        }
      ]
    },
    {
      "cell_type": "code",
      "metadata": {
        "id": "D4m-RHeUJVgq",
        "colab": {
          "base_uri": "https://localhost:8080/"
        },
        "outputId": "303b27db-9dff-4816-ff8f-9068dc8bfba7"
      },
      "source": [
        "#Specificity(Total Negative Result TNR)\n",
        "TN_nav= cm_naiv[1][1]\n",
        "FP_nav= cm_naiv[0][1] \n",
        "TNR_nav = TN_nav/(TN_nav+FP_nav) * 100\n",
        "print(\"Specificity \"+str(TNR_nav)+'%')"
      ],
      "execution_count": 139,
      "outputs": [
        {
          "output_type": "stream",
          "text": [
            "Specificity 97.67441860465115%\n"
          ],
          "name": "stdout"
        }
      ]
    },
    {
      "cell_type": "code",
      "metadata": {
        "id": "5i7btoTGfW62",
        "colab": {
          "base_uri": "https://localhost:8080/"
        },
        "outputId": "53c39b11-f8a4-471c-890f-d970649d6a89"
      },
      "source": [
        "percision_nav=(TP_nav/(TP_nav+FP_nav))*100\n",
        "percision_nav"
      ],
      "execution_count": 140,
      "outputs": [
        {
          "output_type": "execute_result",
          "data": {
            "text/plain": [
              "96.96969696969697"
            ]
          },
          "metadata": {
            "tags": []
          },
          "execution_count": 140
        }
      ]
    },
    {
      "cell_type": "code",
      "metadata": {
        "id": "UUB413aiqXMY",
        "colab": {
          "base_uri": "https://localhost:8080/",
          "height": 298
        },
        "outputId": "8b25cca9-f60e-4cee-b81b-cd227ad3581c"
      },
      "source": [
        "os.chdir(home_path)\n",
        "cm_picture_nav=sn.heatmap(pd.DataFrame(cm_naiv),cmap=\"Blues\", annot=True)\n",
        "figure1 = cm_picture_nav.get_figure()   \n",
        "plt.title(\"Confusion Matrix Naive Bayes\")\n",
        "figure1.savefig('/content/drive/My Drive/project/CGR_data/Confusion_NaiveBayes_4kmers.jpg', dpi=400)"
      ],
      "execution_count": 141,
      "outputs": [
        {
          "output_type": "execute_result",
          "data": {
            "text/plain": [
              "Text(0.5, 1.0, 'Confusion Matrix Naive Bayes')"
            ]
          },
          "metadata": {
            "tags": []
          },
          "execution_count": 141
        },
        {
          "output_type": "display_data",
          "data": {
            "image/png": "[encoded data removed]",
            "text/plain": [
              "<Figure size 432x288 with 2 Axes>"
            ]
          },
          "metadata": {
            "tags": [],
            "needs_background": "light"
          }
        }
      ]
    },
    {
      "cell_type": "code",
      "metadata": {
        "id": "PsIoZRO6snrY",
        "colab": {
          "base_uri": "https://localhost:8080/"
        },
        "outputId": "a80eaaeb-d38a-4507-f902-cd6522055de3"
      },
      "source": [
        "#Calculate Accuracy and Print it\n",
        "accu_navie=(sum([1 for i, j in zip(y_pred_nai, y_test) if i == j])/len(y_test))*100\n",
        "print(\"Accuracy = \" ,accu_navie, \"%\")"
      ],
      "execution_count": 142,
      "outputs": [
        {
          "output_type": "stream",
          "text": [
            "Accuracy =  94.87179487179486 %\n"
          ],
          "name": "stdout"
        }
      ]
    },
    {
      "cell_type": "code",
      "metadata": {
        "id": "mL_Kf-HmDx-9",
        "colab": {
          "base_uri": "https://localhost:8080/"
        },
        "outputId": "91f2af8a-4868-4ebf-b35c-e5f9cf5aae7f"
      },
      "source": [
        "# calculating the cross validation for a set of predictions:\n",
        "results_naiv = cross_val_score(model_n, X_train, y_train,cv=None)*100\n",
        "results_naiv"
      ],
      "execution_count": 143,
      "outputs": [
        {
          "output_type": "execute_result",
          "data": {
            "text/plain": [
              "array([95.23809524, 93.65079365, 82.25806452, 90.32258065, 85.48387097])"
            ]
          },
          "metadata": {
            "tags": []
          },
          "execution_count": 143
        }
      ]
    },
    {
      "cell_type": "code",
      "metadata": {
        "id": "WcFjJVfvz3AD"
      },
      "source": [
        "acc_cross_validation=pd.DataFrame()\n",
        "acc_cross_validation['NaiveBayes']=results_naiv"
      ],
      "execution_count": 144,
      "outputs": []
    },
    {
      "cell_type": "code",
      "metadata": {
        "id": "vgOMOspg1xV4",
        "colab": {
          "base_uri": "https://localhost:8080/",
          "height": 173
        },
        "outputId": "9ef434e4-d7a8-44c5-ae04-b465da13c23f"
      },
      "source": [
        "df_result_['NaiveBayes']=pd.Series({'Accuracy':accu_navie,'Cross_Validation':results_naiv,'Confusion_Matrix':cm_naiv,'Sensitivity':TPR_nav,'Specificity':TNR_nav,'Precision':percision_nav})\n",
        "df_result_"
      ],
      "execution_count": 145,
      "outputs": [
        {
          "output_type": "execute_result",
          "data": {
            "text/html": [
              "<div>\n",
              "<style scoped>\n",
              "    .dataframe tbody tr th:only-of-type {\n",
              "        vertical-align: middle;\n",
              "    }\n",
              "\n",
              "    .dataframe tbody tr th {\n",
              "        vertical-align: top;\n",
              "    }\n",
              "\n",
              "    .dataframe thead th {\n",
              "        text-align: right;\n",
              "    }\n",
              "</style>\n",
              "<table border=\"1\" class=\"dataframe\">\n",
              "  <thead>\n",
              "    <tr style=\"text-align: right;\">\n",
              "      <th></th>\n",
              "      <th>NaiveBayes</th>\n",
              "      <th>logistic regression</th>\n",
              "      <th>KNN</th>\n",
              "      <th>Perceptron</th>\n",
              "      <th>SVM</th>\n",
              "      <th>Ensemble</th>\n",
              "    </tr>\n",
              "  </thead>\n",
              "  <tbody>\n",
              "    <tr>\n",
              "      <th>Accuracy</th>\n",
              "      <td>94.8718</td>\n",
              "      <td>NaN</td>\n",
              "      <td>NaN</td>\n",
              "      <td>NaN</td>\n",
              "      <td>NaN</td>\n",
              "      <td>NaN</td>\n",
              "    </tr>\n",
              "    <tr>\n",
              "      <th>Specificity</th>\n",
              "      <td>97.6744</td>\n",
              "      <td>NaN</td>\n",
              "      <td>NaN</td>\n",
              "      <td>NaN</td>\n",
              "      <td>NaN</td>\n",
              "      <td>NaN</td>\n",
              "    </tr>\n",
              "    <tr>\n",
              "      <th>Precision</th>\n",
              "      <td>96.9697</td>\n",
              "      <td>NaN</td>\n",
              "      <td>NaN</td>\n",
              "      <td>NaN</td>\n",
              "      <td>NaN</td>\n",
              "      <td>NaN</td>\n",
              "    </tr>\n",
              "    <tr>\n",
              "      <th>Sensitivity</th>\n",
              "      <td>91.4286</td>\n",
              "      <td>NaN</td>\n",
              "      <td>NaN</td>\n",
              "      <td>NaN</td>\n",
              "      <td>NaN</td>\n",
              "      <td>NaN</td>\n",
              "    </tr>\n",
              "  </tbody>\n",
              "</table>\n",
              "</div>"
            ],
            "text/plain": [
              "            NaiveBayes logistic regression  KNN Perceptron  SVM Ensemble\n",
              "Accuracy       94.8718                 NaN  NaN        NaN  NaN      NaN\n",
              "Specificity    97.6744                 NaN  NaN        NaN  NaN      NaN\n",
              "Precision      96.9697                 NaN  NaN        NaN  NaN      NaN\n",
              "Sensitivity    91.4286                 NaN  NaN        NaN  NaN      NaN"
            ]
          },
          "metadata": {
            "tags": []
          },
          "execution_count": 145
        }
      ]
    },
    {
      "cell_type": "code",
      "metadata": {
        "id": "fe1RlAJn8HYx"
      },
      "source": [
        "#2- logistic regression"
      ],
      "execution_count": null,
      "outputs": []
    },
    {
      "cell_type": "code",
      "metadata": {
        "id": "WfVnmtZYFlDX"
      },
      "source": [
        "from sklearn.linear_model import LogisticRegression\n",
        "from sklearn import linear_model"
      ],
      "execution_count": 146,
      "outputs": []
    },
    {
      "cell_type": "code",
      "metadata": {
        "id": "QlCUHpETFoKq"
      },
      "source": [
        "clf =linear_model.LogisticRegression().fit(X_train, y_train)"
      ],
      "execution_count": 147,
      "outputs": []
    },
    {
      "cell_type": "code",
      "metadata": {
        "id": "z1CU1Bl5Fo1K"
      },
      "source": [
        "y_pred_log1=clf.predict(X_test)"
      ],
      "execution_count": 148,
      "outputs": []
    },
    {
      "cell_type": "code",
      "metadata": {
        "id": "cbLHoghiUlH0",
        "colab": {
          "base_uri": "https://localhost:8080/"
        },
        "outputId": "8d716b0e-58af-4c27-cd99-47710bbd7078"
      },
      "source": [
        "# confusion matrix\n",
        "os.chdir(home_path)\n",
        "from sklearn.metrics import confusion_matrix\n",
        "cm_logistic=confusion_matrix(y_test,y_pred_log1)\n",
        "cm_logistic"
      ],
      "execution_count": 149,
      "outputs": [
        {
          "output_type": "execute_result",
          "data": {
            "text/plain": [
              "array([[32,  1],\n",
              "       [ 1, 44]])"
            ]
          },
          "metadata": {
            "tags": []
          },
          "execution_count": 149
        }
      ]
    },
    {
      "cell_type": "code",
      "metadata": {
        "id": "wOdEl8TbJrLb",
        "colab": {
          "base_uri": "https://localhost:8080/"
        },
        "outputId": "a66bfad6-9bd6-4ae5-a299-ee5b50336505"
      },
      "source": [
        "#Sensitivity_(True positive rate TPR) \n",
        "TP_log= cm_logistic[0][0]\n",
        "FN_log= cm_logistic[1][0]\n",
        "TPR_log= TP_log/(TP_log+FN_log) * 100\n",
        "print(\"Sensitivity \"+str(TPR_log)+'%')"
      ],
      "execution_count": 150,
      "outputs": [
        {
          "output_type": "stream",
          "text": [
            "Sensitivity 96.96969696969697%\n"
          ],
          "name": "stdout"
        }
      ]
    },
    {
      "cell_type": "code",
      "metadata": {
        "id": "3uJ8dMB1JrYG",
        "colab": {
          "base_uri": "https://localhost:8080/"
        },
        "outputId": "2ee6a589-b004-49c0-f33f-dad54d5d8cf3"
      },
      "source": [
        "#Specificity(Total Negative Result TNR)\n",
        "TN_log= cm_logistic[1][1]\n",
        "FP_log= cm_logistic[0][1] \n",
        "TNR_log = TN_log/(TN_log+FP_log) * 100\n",
        "print(\"Specificity \"+str(TNR_log)+'%')"
      ],
      "execution_count": 151,
      "outputs": [
        {
          "output_type": "stream",
          "text": [
            "Specificity 97.77777777777777%\n"
          ],
          "name": "stdout"
        }
      ]
    },
    {
      "cell_type": "code",
      "metadata": {
        "id": "wJYPN4WdgC5f",
        "colab": {
          "base_uri": "https://localhost:8080/"
        },
        "outputId": "43f03a23-c290-47e9-dbd6-cf3647dac361"
      },
      "source": [
        "percision_log=(TP_log/(TP_log+FP_log))*100\n",
        "percision_log"
      ],
      "execution_count": 152,
      "outputs": [
        {
          "output_type": "execute_result",
          "data": {
            "text/plain": [
              "96.96969696969697"
            ]
          },
          "metadata": {
            "tags": []
          },
          "execution_count": 152
        }
      ]
    },
    {
      "cell_type": "code",
      "metadata": {
        "id": "U_7iZgxdU839",
        "colab": {
          "base_uri": "https://localhost:8080/",
          "height": 298
        },
        "outputId": "1df5fa51-8c9d-4cec-b075-18ce9f5434ec"
      },
      "source": [
        "os.chdir(home_path)\n",
        "cm_picture_logistic=sn.heatmap(pd.DataFrame(cm_logistic),cmap=\"Blues\", annot=True)\n",
        "figure2 = cm_picture_logistic.get_figure()   \n",
        "plt.title(\"Confusion Matrix Logistic Regression\")\n",
        "figure2.savefig('/content/drive/My Drive/project/CGR_data/Confusion_Logistic_4kmers.jpg', dpi=400)"
      ],
      "execution_count": 153,
      "outputs": [
        {
          "output_type": "execute_result",
          "data": {
            "text/plain": [
              "Text(0.5, 1.0, 'Confusion Matrix Logistic Regression')"
            ]
          },
          "metadata": {
            "tags": []
          },
          "execution_count": 153
        },
        {
          "output_type": "display_data",
          "data": {
            "image/png": "[encoded data removed]",
            "text/plain": [
              "<Figure size 432x288 with 2 Axes>"
            ]
          },
          "metadata": {
            "tags": [],
            "needs_background": "light"
          }
        }
      ]
    },
    {
      "cell_type": "code",
      "metadata": {
        "id": "UVSc0_eSVzgf",
        "colab": {
          "base_uri": "https://localhost:8080/"
        },
        "outputId": "e900d35e-548b-4db3-e595-23b48db821c0"
      },
      "source": [
        "#Calculate Accuracy and Print it\n",
        "accu_log=(sum([1 for i, j in zip(y_pred_log1, y_test) if i == j])/len(y_test))*100\n",
        "print(\"Accuracy = \" ,accu_log, \"%\")"
      ],
      "execution_count": 154,
      "outputs": [
        {
          "output_type": "stream",
          "text": [
            "Accuracy =  97.43589743589743 %\n"
          ],
          "name": "stdout"
        }
      ]
    },
    {
      "cell_type": "code",
      "metadata": {
        "id": "6mK8nioeLBh1",
        "colab": {
          "base_uri": "https://localhost:8080/"
        },
        "outputId": "eeda5b35-1782-4faf-82a1-d71ca9364629"
      },
      "source": [
        "# calculating the cross validation for a set of predictions:\n",
        "results_log = cross_val_score(clf, X_train, y_train,cv=None )*100\n",
        "results_log"
      ],
      "execution_count": 155,
      "outputs": [
        {
          "output_type": "execute_result",
          "data": {
            "text/plain": [
              "array([100.        ,  98.41269841, 100.        ,  95.16129032,\n",
              "        98.38709677])"
            ]
          },
          "metadata": {
            "tags": []
          },
          "execution_count": 155
        }
      ]
    },
    {
      "cell_type": "code",
      "metadata": {
        "id": "kTmaxq8s1xmf",
        "colab": {
          "base_uri": "https://localhost:8080/",
          "height": 204
        },
        "outputId": "89e5ee19-4593-43b8-f682-9eb1c8b1ff53"
      },
      "source": [
        "acc_cross_validation['logistic regression']=results_log\n",
        "acc_cross_validation"
      ],
      "execution_count": 156,
      "outputs": [
        {
          "output_type": "execute_result",
          "data": {
            "text/html": [
              "<div>\n",
              "<style scoped>\n",
              "    .dataframe tbody tr th:only-of-type {\n",
              "        vertical-align: middle;\n",
              "    }\n",
              "\n",
              "    .dataframe tbody tr th {\n",
              "        vertical-align: top;\n",
              "    }\n",
              "\n",
              "    .dataframe thead th {\n",
              "        text-align: right;\n",
              "    }\n",
              "</style>\n",
              "<table border=\"1\" class=\"dataframe\">\n",
              "  <thead>\n",
              "    <tr style=\"text-align: right;\">\n",
              "      <th></th>\n",
              "      <th>NaiveBayes</th>\n",
              "      <th>logistic regression</th>\n",
              "    </tr>\n",
              "  </thead>\n",
              "  <tbody>\n",
              "    <tr>\n",
              "      <th>0</th>\n",
              "      <td>95.238095</td>\n",
              "      <td>100.000000</td>\n",
              "    </tr>\n",
              "    <tr>\n",
              "      <th>1</th>\n",
              "      <td>93.650794</td>\n",
              "      <td>98.412698</td>\n",
              "    </tr>\n",
              "    <tr>\n",
              "      <th>2</th>\n",
              "      <td>82.258065</td>\n",
              "      <td>100.000000</td>\n",
              "    </tr>\n",
              "    <tr>\n",
              "      <th>3</th>\n",
              "      <td>90.322581</td>\n",
              "      <td>95.161290</td>\n",
              "    </tr>\n",
              "    <tr>\n",
              "      <th>4</th>\n",
              "      <td>85.483871</td>\n",
              "      <td>98.387097</td>\n",
              "    </tr>\n",
              "  </tbody>\n",
              "</table>\n",
              "</div>"
            ],
            "text/plain": [
              "   NaiveBayes  logistic regression\n",
              "0   95.238095           100.000000\n",
              "1   93.650794            98.412698\n",
              "2   82.258065           100.000000\n",
              "3   90.322581            95.161290\n",
              "4   85.483871            98.387097"
            ]
          },
          "metadata": {
            "tags": []
          },
          "execution_count": 156
        }
      ]
    },
    {
      "cell_type": "code",
      "metadata": {
        "id": "OymQu9hT2T1C",
        "colab": {
          "base_uri": "https://localhost:8080/",
          "height": 173
        },
        "outputId": "4c377092-5ec2-4e1f-871b-442000decca7"
      },
      "source": [
        "df_result_['logistic regression']=pd.Series({'Accuracy': accu_log,'Cross_Validation':results_log,'Confusion_Matrix':cm_logistic,'Sensitivity':TPR_log,'Specificity':TNR_log,'Precision':percision_log})\n",
        "df_result_"
      ],
      "execution_count": 157,
      "outputs": [
        {
          "output_type": "execute_result",
          "data": {
            "text/html": [
              "<div>\n",
              "<style scoped>\n",
              "    .dataframe tbody tr th:only-of-type {\n",
              "        vertical-align: middle;\n",
              "    }\n",
              "\n",
              "    .dataframe tbody tr th {\n",
              "        vertical-align: top;\n",
              "    }\n",
              "\n",
              "    .dataframe thead th {\n",
              "        text-align: right;\n",
              "    }\n",
              "</style>\n",
              "<table border=\"1\" class=\"dataframe\">\n",
              "  <thead>\n",
              "    <tr style=\"text-align: right;\">\n",
              "      <th></th>\n",
              "      <th>NaiveBayes</th>\n",
              "      <th>logistic regression</th>\n",
              "      <th>KNN</th>\n",
              "      <th>Perceptron</th>\n",
              "      <th>SVM</th>\n",
              "      <th>Ensemble</th>\n",
              "    </tr>\n",
              "  </thead>\n",
              "  <tbody>\n",
              "    <tr>\n",
              "      <th>Accuracy</th>\n",
              "      <td>94.8718</td>\n",
              "      <td>97.4359</td>\n",
              "      <td>NaN</td>\n",
              "      <td>NaN</td>\n",
              "      <td>NaN</td>\n",
              "      <td>NaN</td>\n",
              "    </tr>\n",
              "    <tr>\n",
              "      <th>Specificity</th>\n",
              "      <td>97.6744</td>\n",
              "      <td>97.7778</td>\n",
              "      <td>NaN</td>\n",
              "      <td>NaN</td>\n",
              "      <td>NaN</td>\n",
              "      <td>NaN</td>\n",
              "    </tr>\n",
              "    <tr>\n",
              "      <th>Precision</th>\n",
              "      <td>96.9697</td>\n",
              "      <td>96.9697</td>\n",
              "      <td>NaN</td>\n",
              "      <td>NaN</td>\n",
              "      <td>NaN</td>\n",
              "      <td>NaN</td>\n",
              "    </tr>\n",
              "    <tr>\n",
              "      <th>Sensitivity</th>\n",
              "      <td>91.4286</td>\n",
              "      <td>96.9697</td>\n",
              "      <td>NaN</td>\n",
              "      <td>NaN</td>\n",
              "      <td>NaN</td>\n",
              "      <td>NaN</td>\n",
              "    </tr>\n",
              "  </tbody>\n",
              "</table>\n",
              "</div>"
            ],
            "text/plain": [
              "            NaiveBayes logistic regression  KNN Perceptron  SVM Ensemble\n",
              "Accuracy       94.8718             97.4359  NaN        NaN  NaN      NaN\n",
              "Specificity    97.6744             97.7778  NaN        NaN  NaN      NaN\n",
              "Precision      96.9697             96.9697  NaN        NaN  NaN      NaN\n",
              "Sensitivity    91.4286             96.9697  NaN        NaN  NaN      NaN"
            ]
          },
          "metadata": {
            "tags": []
          },
          "execution_count": 157
        }
      ]
    },
    {
      "cell_type": "code",
      "metadata": {
        "id": "xSFeTpuuLZYS"
      },
      "source": [
        "# 3- KNN:"
      ],
      "execution_count": 42,
      "outputs": []
    },
    {
      "cell_type": "code",
      "metadata": {
        "id": "kHwQE46PLfQo",
        "colab": {
          "base_uri": "https://localhost:8080/"
        },
        "outputId": "151155c5-ed00-415e-a4f7-994b9fbe2359"
      },
      "source": [
        "from sklearn.neighbors import KNeighborsClassifier\n",
        "from sklearn.model_selection import cross_val_score\n",
        "neigh = KNeighborsClassifier(n_neighbors=25, metric= 'euclidean')\n",
        "neigh.fit(X_train, y_train)\n",
        "\n",
        "preds1 = neigh.predict(X_test)\n",
        "preds1.shape\n"
      ],
      "execution_count": 158,
      "outputs": [
        {
          "output_type": "execute_result",
          "data": {
            "text/plain": [
              "KNeighborsClassifier(algorithm='auto', leaf_size=30, metric='euclidean',\n",
              "                     metric_params=None, n_jobs=None, n_neighbors=25, p=2,\n",
              "                     weights='uniform')"
            ]
          },
          "metadata": {
            "tags": []
          },
          "execution_count": 158
        },
        {
          "output_type": "execute_result",
          "data": {
            "text/plain": [
              "(78,)"
            ]
          },
          "metadata": {
            "tags": []
          },
          "execution_count": 158
        }
      ]
    },
    {
      "cell_type": "code",
      "metadata": {
        "id": "vlcsrAjIMIZV",
        "colab": {
          "base_uri": "https://localhost:8080/"
        },
        "outputId": "7db6de9c-7558-4a2c-fdbd-5d5869cadc30"
      },
      "source": [
        "# confusion matrix\n",
        "os.chdir(home_path)\n",
        "from sklearn.metrics import confusion_matrix\n",
        "cm_knn=confusion_matrix(y_test,preds1)\n",
        "cm_knn"
      ],
      "execution_count": 159,
      "outputs": [
        {
          "output_type": "execute_result",
          "data": {
            "text/plain": [
              "array([[33,  0],\n",
              "       [45,  0]])"
            ]
          },
          "metadata": {
            "tags": []
          },
          "execution_count": 159
        }
      ]
    },
    {
      "cell_type": "code",
      "metadata": {
        "id": "jYOAB1rlJ6vr",
        "colab": {
          "base_uri": "https://localhost:8080/"
        },
        "outputId": "b3f78fad-f2b2-4b72-da20-a6e5c3314e5f"
      },
      "source": [
        "#Sensitivity_(True positive rate TPR) \n",
        "TP_knn= cm_knn[0][0]\n",
        "FN_knn= cm_knn[1][0]\n",
        "TPR_knn= TP_knn/(TP_knn+FN_knn) * 100\n",
        "print(\"Sensitivity \"+str(TPR_knn)+'%')"
      ],
      "execution_count": 160,
      "outputs": [
        {
          "output_type": "stream",
          "text": [
            "Sensitivity 42.30769230769231%\n"
          ],
          "name": "stdout"
        }
      ]
    },
    {
      "cell_type": "code",
      "metadata": {
        "id": "ozvuOhJ_J69z",
        "colab": {
          "base_uri": "https://localhost:8080/"
        },
        "outputId": "74d1f9c3-cc93-400a-b097-fee3778aac78"
      },
      "source": [
        "#Specificity(Total Negative Result TNR)\n",
        "TN_knn= cm_knn[1][1]\n",
        "FP_knn= cm_knn[0][1] \n",
        "TNR_knn = TN_knn/(TN_knn+FP_knn) * 100\n",
        "print(\"Specificity \"+str(TNR_knn)+'%')"
      ],
      "execution_count": 161,
      "outputs": [
        {
          "output_type": "stream",
          "text": [
            "Specificity nan%\n"
          ],
          "name": "stdout"
        },
        {
          "output_type": "stream",
          "text": [
            "/usr/local/lib/python3.6/dist-packages/ipykernel_launcher.py:4: RuntimeWarning: invalid value encountered in long_scalars\n",
            "  after removing the cwd from sys.path.\n"
          ],
          "name": "stderr"
        }
      ]
    },
    {
      "cell_type": "code",
      "metadata": {
        "id": "qFKEdXFjgbwU",
        "colab": {
          "base_uri": "https://localhost:8080/"
        },
        "outputId": "48678178-eb7d-4858-f761-0b9369137e8d"
      },
      "source": [
        "percision_knn=(TP_knn/(TP_knn+FP_knn))*100\n",
        "percision_knn"
      ],
      "execution_count": 162,
      "outputs": [
        {
          "output_type": "execute_result",
          "data": {
            "text/plain": [
              "100.0"
            ]
          },
          "metadata": {
            "tags": []
          },
          "execution_count": 162
        }
      ]
    },
    {
      "cell_type": "code",
      "metadata": {
        "id": "k78ClrVxOx-w",
        "colab": {
          "base_uri": "https://localhost:8080/",
          "height": 298
        },
        "outputId": "3ea9c7d8-7a2a-4555-c279-f5d4b9307ce8"
      },
      "source": [
        "os.chdir(home_path)\n",
        "cm_picture2=sn.heatmap(pd.DataFrame(cm_knn),cmap=\"Blues\", annot=True)\n",
        "figure3 = cm_picture2.get_figure()   \n",
        "plt.title(\"Confusion Matrix KNN\")\n",
        "figure3.savefig('/content/drive/My Drive/project/CGR_data/Confusion_KNN_4kmers.jpg', dpi=400)"
      ],
      "execution_count": 163,
      "outputs": [
        {
          "output_type": "execute_result",
          "data": {
            "text/plain": [
              "Text(0.5, 1.0, 'Confusion Matrix KNN')"
            ]
          },
          "metadata": {
            "tags": []
          },
          "execution_count": 163
        },
        {
          "output_type": "display_data",
          "data": {
            "image/png": "[encoded data removed]",
            "text/plain": [
              "<Figure size 432x288 with 2 Axes>"
            ]
          },
          "metadata": {
            "tags": [],
            "needs_background": "light"
          }
        }
      ]
    },
    {
      "cell_type": "code",
      "metadata": {
        "id": "KZVoxk6OMfNW",
        "colab": {
          "base_uri": "https://localhost:8080/"
        },
        "outputId": "1f2de493-e234-44a9-b1f5-baf4552efc43"
      },
      "source": [
        "#Calculate Accuracy and Print it\n",
        "accu_knn=(sum([1 for i, j in zip(preds1, y_test) if i == j])/len(y_test))*100\n",
        "print(\"Accuracy = \" ,accu_knn, \"%\")"
      ],
      "execution_count": 164,
      "outputs": [
        {
          "output_type": "stream",
          "text": [
            "Accuracy =  42.30769230769231 %\n"
          ],
          "name": "stdout"
        }
      ]
    },
    {
      "cell_type": "code",
      "metadata": {
        "id": "HrJQWGXgbOHe",
        "colab": {
          "base_uri": "https://localhost:8080/"
        },
        "outputId": "b1a74782-0568-41e3-ffd2-45651493b43c"
      },
      "source": [
        "# calculating the cross validation for a set of predictions:\n",
        "results_knn= cross_val_score(neigh, X_train, y_train,cv=None )*100\n",
        "results_knn"
      ],
      "execution_count": 165,
      "outputs": [
        {
          "output_type": "execute_result",
          "data": {
            "text/plain": [
              "array([53.96825397, 53.96825397, 53.22580645, 53.22580645, 53.22580645])"
            ]
          },
          "metadata": {
            "tags": []
          },
          "execution_count": 165
        }
      ]
    },
    {
      "cell_type": "code",
      "metadata": {
        "id": "hU5rbZSr2HJm",
        "colab": {
          "base_uri": "https://localhost:8080/",
          "height": 204
        },
        "outputId": "7a0490b1-11f3-441d-b50c-5c41611012c0"
      },
      "source": [
        "acc_cross_validation['KNN']=results_knn\n",
        "acc_cross_validation"
      ],
      "execution_count": 166,
      "outputs": [
        {
          "output_type": "execute_result",
          "data": {
            "text/html": [
              "<div>\n",
              "<style scoped>\n",
              "    .dataframe tbody tr th:only-of-type {\n",
              "        vertical-align: middle;\n",
              "    }\n",
              "\n",
              "    .dataframe tbody tr th {\n",
              "        vertical-align: top;\n",
              "    }\n",
              "\n",
              "    .dataframe thead th {\n",
              "        text-align: right;\n",
              "    }\n",
              "</style>\n",
              "<table border=\"1\" class=\"dataframe\">\n",
              "  <thead>\n",
              "    <tr style=\"text-align: right;\">\n",
              "      <th></th>\n",
              "      <th>NaiveBayes</th>\n",
              "      <th>logistic regression</th>\n",
              "      <th>KNN</th>\n",
              "    </tr>\n",
              "  </thead>\n",
              "  <tbody>\n",
              "    <tr>\n",
              "      <th>0</th>\n",
              "      <td>95.238095</td>\n",
              "      <td>100.000000</td>\n",
              "      <td>53.968254</td>\n",
              "    </tr>\n",
              "    <tr>\n",
              "      <th>1</th>\n",
              "      <td>93.650794</td>\n",
              "      <td>98.412698</td>\n",
              "      <td>53.968254</td>\n",
              "    </tr>\n",
              "    <tr>\n",
              "      <th>2</th>\n",
              "      <td>82.258065</td>\n",
              "      <td>100.000000</td>\n",
              "      <td>53.225806</td>\n",
              "    </tr>\n",
              "    <tr>\n",
              "      <th>3</th>\n",
              "      <td>90.322581</td>\n",
              "      <td>95.161290</td>\n",
              "      <td>53.225806</td>\n",
              "    </tr>\n",
              "    <tr>\n",
              "      <th>4</th>\n",
              "      <td>85.483871</td>\n",
              "      <td>98.387097</td>\n",
              "      <td>53.225806</td>\n",
              "    </tr>\n",
              "  </tbody>\n",
              "</table>\n",
              "</div>"
            ],
            "text/plain": [
              "   NaiveBayes  logistic regression        KNN\n",
              "0   95.238095           100.000000  53.968254\n",
              "1   93.650794            98.412698  53.968254\n",
              "2   82.258065           100.000000  53.225806\n",
              "3   90.322581            95.161290  53.225806\n",
              "4   85.483871            98.387097  53.225806"
            ]
          },
          "metadata": {
            "tags": []
          },
          "execution_count": 166
        }
      ]
    },
    {
      "cell_type": "code",
      "metadata": {
        "id": "S_LiZSJ95nf8",
        "colab": {
          "base_uri": "https://localhost:8080/",
          "height": 173
        },
        "outputId": "f697759f-5c17-4433-d4c8-1dd9d4e0e538"
      },
      "source": [
        "df_result_['KNN']=pd.Series({'Accuracy':accu_knn,'Cross_Validation':results_knn,'Confusion_Matrix':cm_knn,'Sensitivity':TPR_knn,'Specificity':TNR_knn,'Precision':percision_knn})\n",
        "df_result_"
      ],
      "execution_count": 167,
      "outputs": [
        {
          "output_type": "execute_result",
          "data": {
            "text/html": [
              "<div>\n",
              "<style scoped>\n",
              "    .dataframe tbody tr th:only-of-type {\n",
              "        vertical-align: middle;\n",
              "    }\n",
              "\n",
              "    .dataframe tbody tr th {\n",
              "        vertical-align: top;\n",
              "    }\n",
              "\n",
              "    .dataframe thead th {\n",
              "        text-align: right;\n",
              "    }\n",
              "</style>\n",
              "<table border=\"1\" class=\"dataframe\">\n",
              "  <thead>\n",
              "    <tr style=\"text-align: right;\">\n",
              "      <th></th>\n",
              "      <th>NaiveBayes</th>\n",
              "      <th>logistic regression</th>\n",
              "      <th>KNN</th>\n",
              "      <th>Perceptron</th>\n",
              "      <th>SVM</th>\n",
              "      <th>Ensemble</th>\n",
              "    </tr>\n",
              "  </thead>\n",
              "  <tbody>\n",
              "    <tr>\n",
              "      <th>Accuracy</th>\n",
              "      <td>94.8718</td>\n",
              "      <td>97.4359</td>\n",
              "      <td>42.3077</td>\n",
              "      <td>NaN</td>\n",
              "      <td>NaN</td>\n",
              "      <td>NaN</td>\n",
              "    </tr>\n",
              "    <tr>\n",
              "      <th>Specificity</th>\n",
              "      <td>97.6744</td>\n",
              "      <td>97.7778</td>\n",
              "      <td>NaN</td>\n",
              "      <td>NaN</td>\n",
              "      <td>NaN</td>\n",
              "      <td>NaN</td>\n",
              "    </tr>\n",
              "    <tr>\n",
              "      <th>Precision</th>\n",
              "      <td>96.9697</td>\n",
              "      <td>96.9697</td>\n",
              "      <td>100</td>\n",
              "      <td>NaN</td>\n",
              "      <td>NaN</td>\n",
              "      <td>NaN</td>\n",
              "    </tr>\n",
              "    <tr>\n",
              "      <th>Sensitivity</th>\n",
              "      <td>91.4286</td>\n",
              "      <td>96.9697</td>\n",
              "      <td>42.3077</td>\n",
              "      <td>NaN</td>\n",
              "      <td>NaN</td>\n",
              "      <td>NaN</td>\n",
              "    </tr>\n",
              "  </tbody>\n",
              "</table>\n",
              "</div>"
            ],
            "text/plain": [
              "            NaiveBayes logistic regression      KNN Perceptron  SVM Ensemble\n",
              "Accuracy       94.8718             97.4359  42.3077        NaN  NaN      NaN\n",
              "Specificity    97.6744             97.7778      NaN        NaN  NaN      NaN\n",
              "Precision      96.9697             96.9697      100        NaN  NaN      NaN\n",
              "Sensitivity    91.4286             96.9697  42.3077        NaN  NaN      NaN"
            ]
          },
          "metadata": {
            "tags": []
          },
          "execution_count": 167
        }
      ]
    },
    {
      "cell_type": "code",
      "metadata": {
        "id": "tQTgc_bsRNa0"
      },
      "source": [
        "# 4- Perceptron"
      ],
      "execution_count": null,
      "outputs": []
    },
    {
      "cell_type": "code",
      "metadata": {
        "id": "R7zfY1s4_R4e",
        "colab": {
          "base_uri": "https://localhost:8080/"
        },
        "outputId": "7e664ee5-6c9a-48b4-f5e4-96a1d5afc246"
      },
      "source": [
        "from sklearn.linear_model import Perceptron\n",
        "perp=Perceptron(max_iter=100, eta0=0.01,shuffle=True)\n",
        "perp.fit(X_train, y_train)\n",
        "Test_y=pd.Series(perp.predict(X_test), name='y')"
      ],
      "execution_count": 168,
      "outputs": [
        {
          "output_type": "execute_result",
          "data": {
            "text/plain": [
              "Perceptron(alpha=0.0001, class_weight=None, early_stopping=False, eta0=0.01,\n",
              "           fit_intercept=True, max_iter=100, n_iter_no_change=5, n_jobs=None,\n",
              "           penalty=None, random_state=0, shuffle=True, tol=0.001,\n",
              "           validation_fraction=0.1, verbose=0, warm_start=False)"
            ]
          },
          "metadata": {
            "tags": []
          },
          "execution_count": 168
        }
      ]
    },
    {
      "cell_type": "code",
      "metadata": {
        "id": "MSjJVaaoXwJa",
        "colab": {
          "base_uri": "https://localhost:8080/"
        },
        "outputId": "7a5ce5dd-28a0-473c-d5ec-e23616aee429"
      },
      "source": [
        "# confusion matrix\n",
        "os.chdir(home_path)\n",
        "from sklearn.metrics import confusion_matrix\n",
        "cm_per=confusion_matrix(y_test,Test_y)\n",
        "cm_per"
      ],
      "execution_count": 169,
      "outputs": [
        {
          "output_type": "execute_result",
          "data": {
            "text/plain": [
              "array([[31,  2],\n",
              "       [ 2, 43]])"
            ]
          },
          "metadata": {
            "tags": []
          },
          "execution_count": 169
        }
      ]
    },
    {
      "cell_type": "code",
      "metadata": {
        "id": "LDGJw2TCKSba",
        "colab": {
          "base_uri": "https://localhost:8080/"
        },
        "outputId": "73bef427-6fbc-4ca0-aa58-f6ddefeb1cc1"
      },
      "source": [
        "#Sensitivity_(True positive rate TPR) \n",
        "TP_per= cm_per[0][0]\n",
        "FN_per= cm_per[1][0]\n",
        "TPR_per= TP_per/(TP_per+FN_per) * 100\n",
        "print(\"Sensitivity \"+str(TPR_per)+'%')"
      ],
      "execution_count": 170,
      "outputs": [
        {
          "output_type": "stream",
          "text": [
            "Sensitivity 93.93939393939394%\n"
          ],
          "name": "stdout"
        }
      ]
    },
    {
      "cell_type": "code",
      "metadata": {
        "id": "BKeCvymBKSob",
        "colab": {
          "base_uri": "https://localhost:8080/"
        },
        "outputId": "a6148fc2-6deb-4535-da00-c9dd3a746d35"
      },
      "source": [
        "#Specificity(Total Negative Result TNR)\n",
        "TN_per= cm_per[1][1]\n",
        "FP_per= cm_per[0][1] \n",
        "TNR_per = TN_per/(TN_per+FP_per) * 100\n",
        "print(\"Specificity \"+str(TNR_per)+'%')"
      ],
      "execution_count": 171,
      "outputs": [
        {
          "output_type": "stream",
          "text": [
            "Specificity 95.55555555555556%\n"
          ],
          "name": "stdout"
        }
      ]
    },
    {
      "cell_type": "code",
      "metadata": {
        "id": "FCHg3w1ngvj5",
        "colab": {
          "base_uri": "https://localhost:8080/"
        },
        "outputId": "e319da13-eb82-4c6d-8942-8140848dc6e3"
      },
      "source": [
        "percision_per=(TP_per/(TP_per+FP_per))*100\n",
        "percision_per"
      ],
      "execution_count": 172,
      "outputs": [
        {
          "output_type": "execute_result",
          "data": {
            "text/plain": [
              "93.93939393939394"
            ]
          },
          "metadata": {
            "tags": []
          },
          "execution_count": 172
        }
      ]
    },
    {
      "cell_type": "code",
      "metadata": {
        "id": "HY3q7HLOXwfX",
        "colab": {
          "base_uri": "https://localhost:8080/",
          "height": 298
        },
        "outputId": "2f8a59b9-72d1-4e51-aac0-291fbc66b4d9"
      },
      "source": [
        "os.chdir(home_path)\n",
        "cm_picture4=sn.heatmap(pd.DataFrame(cm_per),cmap=\"Blues\", annot=True)\n",
        "figure4 = cm_picture4.get_figure()   \n",
        "plt.title(\"Confusion Matrix Perceptron\")\n",
        "figure4.savefig('/content/drive/My Drive/project/CGR_data/Confusion_Perceptron_4kmers.jpg', dpi=400)"
      ],
      "execution_count": 173,
      "outputs": [
        {
          "output_type": "execute_result",
          "data": {
            "text/plain": [
              "Text(0.5, 1.0, 'Confusion Matrix Perceptron')"
            ]
          },
          "metadata": {
            "tags": []
          },
          "execution_count": 173
        },
        {
          "output_type": "display_data",
          "data": {
            "image/png": "[encoded data removed]",
            "text/plain": [
              "<Figure size 432x288 with 2 Axes>"
            ]
          },
          "metadata": {
            "tags": [],
            "needs_background": "light"
          }
        }
      ]
    },
    {
      "cell_type": "code",
      "metadata": {
        "id": "qF5rDQ8dBiHc",
        "colab": {
          "base_uri": "https://localhost:8080/"
        },
        "outputId": "a14be702-5f1e-446d-a58d-fb9e7853e721"
      },
      "source": [
        "#Calculate Accuracy and Print it\n",
        "accu_per=(sum([1 for i, j in zip(Test_y, y_test) if i == j])/len(y_test))*100\n",
        "print(\"Accuracy = \" ,accu_per, \"%\")\n",
        "acc_per2=((TP_per+TN_per)/(TP_per+FP_per+FN_per+TN_per))*100 # another way\n",
        "acc_per2"
      ],
      "execution_count": 174,
      "outputs": [
        {
          "output_type": "stream",
          "text": [
            "Accuracy =  94.87179487179486 %\n"
          ],
          "name": "stdout"
        },
        {
          "output_type": "execute_result",
          "data": {
            "text/plain": [
              "94.87179487179486"
            ]
          },
          "metadata": {
            "tags": []
          },
          "execution_count": 174
        }
      ]
    },
    {
      "cell_type": "code",
      "metadata": {
        "id": "XR_e6qziHvFR",
        "colab": {
          "base_uri": "https://localhost:8080/"
        },
        "outputId": "63eae7e7-b800-40de-c34f-35e35721c518"
      },
      "source": [
        "# calculating the cross validation for a set of predictions:\n",
        "results_per = cross_val_score(perp, X_train, y_train,cv=None)*100\n",
        "results_per"
      ],
      "execution_count": 175,
      "outputs": [
        {
          "output_type": "execute_result",
          "data": {
            "text/plain": [
              "array([93.65079365, 96.82539683, 91.93548387, 96.77419355, 95.16129032])"
            ]
          },
          "metadata": {
            "tags": []
          },
          "execution_count": 175
        }
      ]
    },
    {
      "cell_type": "code",
      "metadata": {
        "id": "y5fjPIEN2TWJ",
        "colab": {
          "base_uri": "https://localhost:8080/",
          "height": 204
        },
        "outputId": "aea79ce8-4f64-472c-e6b8-5051fa51ea86"
      },
      "source": [
        "acc_cross_validation['Perceptron']=results_per\n",
        "acc_cross_validation"
      ],
      "execution_count": 176,
      "outputs": [
        {
          "output_type": "execute_result",
          "data": {
            "text/html": [
              "<div>\n",
              "<style scoped>\n",
              "    .dataframe tbody tr th:only-of-type {\n",
              "        vertical-align: middle;\n",
              "    }\n",
              "\n",
              "    .dataframe tbody tr th {\n",
              "        vertical-align: top;\n",
              "    }\n",
              "\n",
              "    .dataframe thead th {\n",
              "        text-align: right;\n",
              "    }\n",
              "</style>\n",
              "<table border=\"1\" class=\"dataframe\">\n",
              "  <thead>\n",
              "    <tr style=\"text-align: right;\">\n",
              "      <th></th>\n",
              "      <th>NaiveBayes</th>\n",
              "      <th>logistic regression</th>\n",
              "      <th>KNN</th>\n",
              "      <th>Perceptron</th>\n",
              "    </tr>\n",
              "  </thead>\n",
              "  <tbody>\n",
              "    <tr>\n",
              "      <th>0</th>\n",
              "      <td>95.238095</td>\n",
              "      <td>100.000000</td>\n",
              "      <td>53.968254</td>\n",
              "      <td>93.650794</td>\n",
              "    </tr>\n",
              "    <tr>\n",
              "      <th>1</th>\n",
              "      <td>93.650794</td>\n",
              "      <td>98.412698</td>\n",
              "      <td>53.968254</td>\n",
              "      <td>96.825397</td>\n",
              "    </tr>\n",
              "    <tr>\n",
              "      <th>2</th>\n",
              "      <td>82.258065</td>\n",
              "      <td>100.000000</td>\n",
              "      <td>53.225806</td>\n",
              "      <td>91.935484</td>\n",
              "    </tr>\n",
              "    <tr>\n",
              "      <th>3</th>\n",
              "      <td>90.322581</td>\n",
              "      <td>95.161290</td>\n",
              "      <td>53.225806</td>\n",
              "      <td>96.774194</td>\n",
              "    </tr>\n",
              "    <tr>\n",
              "      <th>4</th>\n",
              "      <td>85.483871</td>\n",
              "      <td>98.387097</td>\n",
              "      <td>53.225806</td>\n",
              "      <td>95.161290</td>\n",
              "    </tr>\n",
              "  </tbody>\n",
              "</table>\n",
              "</div>"
            ],
            "text/plain": [
              "   NaiveBayes  logistic regression        KNN  Perceptron\n",
              "0   95.238095           100.000000  53.968254   93.650794\n",
              "1   93.650794            98.412698  53.968254   96.825397\n",
              "2   82.258065           100.000000  53.225806   91.935484\n",
              "3   90.322581            95.161290  53.225806   96.774194\n",
              "4   85.483871            98.387097  53.225806   95.161290"
            ]
          },
          "metadata": {
            "tags": []
          },
          "execution_count": 176
        }
      ]
    },
    {
      "cell_type": "code",
      "metadata": {
        "id": "9tWp80la6P5U",
        "colab": {
          "base_uri": "https://localhost:8080/",
          "height": 173
        },
        "outputId": "42c996ba-47f9-4d68-ae57-34a8869b3d6e"
      },
      "source": [
        "df_result_['Perceptron']=pd.Series({'Accuracy':accu_per,'Cross_Validation':results_per,'Confusion_Matrix':cm_per,'Sensitivity':TPR_per,'Specificity':TNR_per,'Precision':percision_per})\n",
        "df_result_"
      ],
      "execution_count": 177,
      "outputs": [
        {
          "output_type": "execute_result",
          "data": {
            "text/html": [
              "<div>\n",
              "<style scoped>\n",
              "    .dataframe tbody tr th:only-of-type {\n",
              "        vertical-align: middle;\n",
              "    }\n",
              "\n",
              "    .dataframe tbody tr th {\n",
              "        vertical-align: top;\n",
              "    }\n",
              "\n",
              "    .dataframe thead th {\n",
              "        text-align: right;\n",
              "    }\n",
              "</style>\n",
              "<table border=\"1\" class=\"dataframe\">\n",
              "  <thead>\n",
              "    <tr style=\"text-align: right;\">\n",
              "      <th></th>\n",
              "      <th>NaiveBayes</th>\n",
              "      <th>logistic regression</th>\n",
              "      <th>KNN</th>\n",
              "      <th>Perceptron</th>\n",
              "      <th>SVM</th>\n",
              "      <th>Ensemble</th>\n",
              "    </tr>\n",
              "  </thead>\n",
              "  <tbody>\n",
              "    <tr>\n",
              "      <th>Accuracy</th>\n",
              "      <td>94.8718</td>\n",
              "      <td>97.4359</td>\n",
              "      <td>42.3077</td>\n",
              "      <td>94.8718</td>\n",
              "      <td>NaN</td>\n",
              "      <td>NaN</td>\n",
              "    </tr>\n",
              "    <tr>\n",
              "      <th>Specificity</th>\n",
              "      <td>97.6744</td>\n",
              "      <td>97.7778</td>\n",
              "      <td>NaN</td>\n",
              "      <td>95.5556</td>\n",
              "      <td>NaN</td>\n",
              "      <td>NaN</td>\n",
              "    </tr>\n",
              "    <tr>\n",
              "      <th>Precision</th>\n",
              "      <td>96.9697</td>\n",
              "      <td>96.9697</td>\n",
              "      <td>100</td>\n",
              "      <td>93.9394</td>\n",
              "      <td>NaN</td>\n",
              "      <td>NaN</td>\n",
              "    </tr>\n",
              "    <tr>\n",
              "      <th>Sensitivity</th>\n",
              "      <td>91.4286</td>\n",
              "      <td>96.9697</td>\n",
              "      <td>42.3077</td>\n",
              "      <td>93.9394</td>\n",
              "      <td>NaN</td>\n",
              "      <td>NaN</td>\n",
              "    </tr>\n",
              "  </tbody>\n",
              "</table>\n",
              "</div>"
            ],
            "text/plain": [
              "            NaiveBayes logistic regression      KNN Perceptron  SVM Ensemble\n",
              "Accuracy       94.8718             97.4359  42.3077    94.8718  NaN      NaN\n",
              "Specificity    97.6744             97.7778      NaN    95.5556  NaN      NaN\n",
              "Precision      96.9697             96.9697      100    93.9394  NaN      NaN\n",
              "Sensitivity    91.4286             96.9697  42.3077    93.9394  NaN      NaN"
            ]
          },
          "metadata": {
            "tags": []
          },
          "execution_count": 177
        }
      ]
    },
    {
      "cell_type": "code",
      "metadata": {
        "id": "a1TC1Zu0ovrX"
      },
      "source": [
        "# 5- Support Vector Machine(SVM)"
      ],
      "execution_count": null,
      "outputs": []
    },
    {
      "cell_type": "code",
      "metadata": {
        "id": "nvsHO3_qowBx"
      },
      "source": [
        "# Create Linear SVM object\n",
        "from sklearn import svm\n",
        "support = svm.LinearSVC(random_state=20)"
      ],
      "execution_count": 178,
      "outputs": []
    },
    {
      "cell_type": "code",
      "metadata": {
        "id": "qdLL71lQowRx",
        "colab": {
          "base_uri": "https://localhost:8080/"
        },
        "outputId": "e076808a-f6ce-44ab-a680-58694ab42416"
      },
      "source": [
        "# Train the model using the training sets and check score on test dataset\n",
        "from sklearn.metrics import accuracy_score\n",
        "support.fit(X_train, y_train)\n",
        "predicted= support.predict(X_test)"
      ],
      "execution_count": 179,
      "outputs": [
        {
          "output_type": "execute_result",
          "data": {
            "text/plain": [
              "LinearSVC(C=1.0, class_weight=None, dual=True, fit_intercept=True,\n",
              "          intercept_scaling=1, loss='squared_hinge', max_iter=1000,\n",
              "          multi_class='ovr', penalty='l2', random_state=20, tol=0.0001,\n",
              "          verbose=0)"
            ]
          },
          "metadata": {
            "tags": []
          },
          "execution_count": 179
        }
      ]
    },
    {
      "cell_type": "code",
      "metadata": {
        "id": "VxF2p0AXpAbg",
        "colab": {
          "base_uri": "https://localhost:8080/"
        },
        "outputId": "835d4258-8119-4eb7-d6e4-f9d80617a2d7"
      },
      "source": [
        "score_svm1=support.score(X_test, y_test) # method 1 to calculate accuracy of svm model\n",
        "score_svm2=accuracy_score(y_test,predicted)  # method 2 to calculate accuracy of svm model\n",
        "#Calculate Accuracy and Print it by method3\n",
        "accu_svm=(sum([1 for i, j in zip(predicted, y_test) if i == j])/len(y_test))*100\n",
        "print(\"Your Model Accuracy is\", score_svm1*100,score_svm2*100,accu_svm)"
      ],
      "execution_count": 180,
      "outputs": [
        {
          "output_type": "stream",
          "text": [
            "Your Model Accuracy is 96.15384615384616 96.15384615384616 96.15384615384616\n"
          ],
          "name": "stdout"
        }
      ]
    },
    {
      "cell_type": "code",
      "metadata": {
        "id": "621Bi85yx8zh",
        "colab": {
          "base_uri": "https://localhost:8080/"
        },
        "outputId": "1708e8b0-8046-44ac-d807-f4fa1aac3357"
      },
      "source": [
        "# confusion matrix\n",
        "os.chdir(home_path)\n",
        "from sklearn.metrics import confusion_matrix\n",
        "cm_svm=confusion_matrix(y_test,predicted)\n",
        "cm_svm"
      ],
      "execution_count": 181,
      "outputs": [
        {
          "output_type": "execute_result",
          "data": {
            "text/plain": [
              "array([[32,  1],\n",
              "       [ 2, 43]])"
            ]
          },
          "metadata": {
            "tags": []
          },
          "execution_count": 181
        }
      ]
    },
    {
      "cell_type": "code",
      "metadata": {
        "id": "erkf24QPyRig",
        "colab": {
          "base_uri": "https://localhost:8080/"
        },
        "outputId": "a5d52a7d-e5a6-4ebe-c039-e418a584cc25"
      },
      "source": [
        "#Sensitivity_(True positive rate TPR) \n",
        "TP_svm= cm_svm[0][0]\n",
        "FN_svm= cm_svm[1][0]\n",
        "TPR_svm= TP_svm/(TP_svm+FN_svm) * 100\n",
        "print(\"Sensitivity \"+str(TPR_svm)+'%')"
      ],
      "execution_count": 182,
      "outputs": [
        {
          "output_type": "stream",
          "text": [
            "Sensitivity 94.11764705882352%\n"
          ],
          "name": "stdout"
        }
      ]
    },
    {
      "cell_type": "code",
      "metadata": {
        "id": "gQ-RIsJ8yRfD",
        "colab": {
          "base_uri": "https://localhost:8080/"
        },
        "outputId": "11c78a35-3f36-461b-9f78-ff597e95566f"
      },
      "source": [
        "#Specificity(Total Negative Result TNR)\n",
        "TN_svm= cm_svm[1][1]\n",
        "FP_svm= cm_svm[0][1] \n",
        "TNR_svm = TN_svm/(TN_svm+FP_svm) * 100\n",
        "print(\"Specificity \"+str(TNR_svm)+'%')"
      ],
      "execution_count": 183,
      "outputs": [
        {
          "output_type": "stream",
          "text": [
            "Specificity 97.72727272727273%\n"
          ],
          "name": "stdout"
        }
      ]
    },
    {
      "cell_type": "code",
      "metadata": {
        "id": "O93yuzuqegkh",
        "colab": {
          "base_uri": "https://localhost:8080/"
        },
        "outputId": "561dc188-0bb7-4705-e860-70827ae544fc"
      },
      "source": [
        "float32_epsilon = np.finfo(np.float32).eps\n",
        "percision_svm_=(TP_svm/(TP_svm+FP_svm)+float32_epsilon)*100\n",
        "percision_svm_"
      ],
      "execution_count": 184,
      "outputs": [
        {
          "output_type": "execute_result",
          "data": {
            "text/plain": [
              "96.96970889062592"
            ]
          },
          "metadata": {
            "tags": []
          },
          "execution_count": 184
        }
      ]
    },
    {
      "cell_type": "code",
      "metadata": {
        "id": "Wa6WfvM8yRbn",
        "colab": {
          "base_uri": "https://localhost:8080/",
          "height": 298
        },
        "outputId": "66de5d1d-2acd-447d-b9f3-33060e57f1d1"
      },
      "source": [
        "os.chdir(home_path)\n",
        "cm_picture5=sn.heatmap(pd.DataFrame(cm_svm),cmap=\"Blues\", annot=True)\n",
        "figure5 = cm_picture5.get_figure()   \n",
        "plt.title(\"Confusion Matrix SVM\")\n",
        "figure5.savefig('/content/drive/My Drive/project/CGR_data/Confusion_SVM_4kmers.jpg', dpi=400)"
      ],
      "execution_count": 185,
      "outputs": [
        {
          "output_type": "execute_result",
          "data": {
            "text/plain": [
              "Text(0.5, 1.0, 'Confusion Matrix SVM')"
            ]
          },
          "metadata": {
            "tags": []
          },
          "execution_count": 185
        },
        {
          "output_type": "display_data",
          "data": {
            "image/png": "[encoded data removed]",
            "text/plain": [
              "<Figure size 432x288 with 2 Axes>"
            ]
          },
          "metadata": {
            "tags": [],
            "needs_background": "light"
          }
        }
      ]
    },
    {
      "cell_type": "code",
      "metadata": {
        "id": "2opSoiX1yie8",
        "colab": {
          "base_uri": "https://localhost:8080/"
        },
        "outputId": "03b61e07-742b-40b1-8ce5-0b0df82c7071"
      },
      "source": [
        "# calculating the mean R^2 for a set of predictions:\n",
        "results_svm = cross_val_score(support,X_train, y_train,cv=None)*100\n",
        "results_svm"
      ],
      "execution_count": 186,
      "outputs": [
        {
          "output_type": "stream",
          "text": [
            "/usr/local/lib/python3.6/dist-packages/sklearn/svm/_base.py:947: ConvergenceWarning: Liblinear failed to converge, increase the number of iterations.\n",
            "  \"the number of iterations.\", ConvergenceWarning)\n"
          ],
          "name": "stderr"
        },
        {
          "output_type": "execute_result",
          "data": {
            "text/plain": [
              "array([ 96.82539683,  96.82539683, 100.        ,  96.77419355,\n",
              "        95.16129032])"
            ]
          },
          "metadata": {
            "tags": []
          },
          "execution_count": 186
        }
      ]
    },
    {
      "cell_type": "code",
      "metadata": {
        "id": "mlBvsSoU2759",
        "colab": {
          "base_uri": "https://localhost:8080/",
          "height": 204
        },
        "outputId": "40497233-b02c-4ec7-dccc-4cf7b332683b"
      },
      "source": [
        "acc_cross_validation['SVM']=results_svm\n",
        "acc_cross_validation"
      ],
      "execution_count": 187,
      "outputs": [
        {
          "output_type": "execute_result",
          "data": {
            "text/html": [
              "<div>\n",
              "<style scoped>\n",
              "    .dataframe tbody tr th:only-of-type {\n",
              "        vertical-align: middle;\n",
              "    }\n",
              "\n",
              "    .dataframe tbody tr th {\n",
              "        vertical-align: top;\n",
              "    }\n",
              "\n",
              "    .dataframe thead th {\n",
              "        text-align: right;\n",
              "    }\n",
              "</style>\n",
              "<table border=\"1\" class=\"dataframe\">\n",
              "  <thead>\n",
              "    <tr style=\"text-align: right;\">\n",
              "      <th></th>\n",
              "      <th>NaiveBayes</th>\n",
              "      <th>logistic regression</th>\n",
              "      <th>KNN</th>\n",
              "      <th>Perceptron</th>\n",
              "      <th>SVM</th>\n",
              "    </tr>\n",
              "  </thead>\n",
              "  <tbody>\n",
              "    <tr>\n",
              "      <th>0</th>\n",
              "      <td>95.238095</td>\n",
              "      <td>100.000000</td>\n",
              "      <td>53.968254</td>\n",
              "      <td>93.650794</td>\n",
              "      <td>96.825397</td>\n",
              "    </tr>\n",
              "    <tr>\n",
              "      <th>1</th>\n",
              "      <td>93.650794</td>\n",
              "      <td>98.412698</td>\n",
              "      <td>53.968254</td>\n",
              "      <td>96.825397</td>\n",
              "      <td>96.825397</td>\n",
              "    </tr>\n",
              "    <tr>\n",
              "      <th>2</th>\n",
              "      <td>82.258065</td>\n",
              "      <td>100.000000</td>\n",
              "      <td>53.225806</td>\n",
              "      <td>91.935484</td>\n",
              "      <td>100.000000</td>\n",
              "    </tr>\n",
              "    <tr>\n",
              "      <th>3</th>\n",
              "      <td>90.322581</td>\n",
              "      <td>95.161290</td>\n",
              "      <td>53.225806</td>\n",
              "      <td>96.774194</td>\n",
              "      <td>96.774194</td>\n",
              "    </tr>\n",
              "    <tr>\n",
              "      <th>4</th>\n",
              "      <td>85.483871</td>\n",
              "      <td>98.387097</td>\n",
              "      <td>53.225806</td>\n",
              "      <td>95.161290</td>\n",
              "      <td>95.161290</td>\n",
              "    </tr>\n",
              "  </tbody>\n",
              "</table>\n",
              "</div>"
            ],
            "text/plain": [
              "   NaiveBayes  logistic regression        KNN  Perceptron         SVM\n",
              "0   95.238095           100.000000  53.968254   93.650794   96.825397\n",
              "1   93.650794            98.412698  53.968254   96.825397   96.825397\n",
              "2   82.258065           100.000000  53.225806   91.935484  100.000000\n",
              "3   90.322581            95.161290  53.225806   96.774194   96.774194\n",
              "4   85.483871            98.387097  53.225806   95.161290   95.161290"
            ]
          },
          "metadata": {
            "tags": []
          },
          "execution_count": 187
        }
      ]
    },
    {
      "cell_type": "code",
      "metadata": {
        "id": "SnzrKsbXzD-S",
        "colab": {
          "base_uri": "https://localhost:8080/",
          "height": 173
        },
        "outputId": "1f0251fc-2dc3-4688-aa76-a4d393c6bcdd"
      },
      "source": [
        "df_result_['SVM']=pd.Series({'Accuracy':accu_svm,'Cross_Validation':results_svm,'Confusion_Matrix':cm_svm,'Sensitivity':TPR_svm,'Specificity':TNR_svm,'Precision':percision_svm_})\n",
        "df_result_"
      ],
      "execution_count": 188,
      "outputs": [
        {
          "output_type": "execute_result",
          "data": {
            "text/html": [
              "<div>\n",
              "<style scoped>\n",
              "    .dataframe tbody tr th:only-of-type {\n",
              "        vertical-align: middle;\n",
              "    }\n",
              "\n",
              "    .dataframe tbody tr th {\n",
              "        vertical-align: top;\n",
              "    }\n",
              "\n",
              "    .dataframe thead th {\n",
              "        text-align: right;\n",
              "    }\n",
              "</style>\n",
              "<table border=\"1\" class=\"dataframe\">\n",
              "  <thead>\n",
              "    <tr style=\"text-align: right;\">\n",
              "      <th></th>\n",
              "      <th>NaiveBayes</th>\n",
              "      <th>logistic regression</th>\n",
              "      <th>KNN</th>\n",
              "      <th>Perceptron</th>\n",
              "      <th>SVM</th>\n",
              "      <th>Ensemble</th>\n",
              "    </tr>\n",
              "  </thead>\n",
              "  <tbody>\n",
              "    <tr>\n",
              "      <th>Accuracy</th>\n",
              "      <td>94.8718</td>\n",
              "      <td>97.4359</td>\n",
              "      <td>42.3077</td>\n",
              "      <td>94.8718</td>\n",
              "      <td>96.1538</td>\n",
              "      <td>NaN</td>\n",
              "    </tr>\n",
              "    <tr>\n",
              "      <th>Specificity</th>\n",
              "      <td>97.6744</td>\n",
              "      <td>97.7778</td>\n",
              "      <td>NaN</td>\n",
              "      <td>95.5556</td>\n",
              "      <td>97.7273</td>\n",
              "      <td>NaN</td>\n",
              "    </tr>\n",
              "    <tr>\n",
              "      <th>Precision</th>\n",
              "      <td>96.9697</td>\n",
              "      <td>96.9697</td>\n",
              "      <td>100</td>\n",
              "      <td>93.9394</td>\n",
              "      <td>96.9697</td>\n",
              "      <td>NaN</td>\n",
              "    </tr>\n",
              "    <tr>\n",
              "      <th>Sensitivity</th>\n",
              "      <td>91.4286</td>\n",
              "      <td>96.9697</td>\n",
              "      <td>42.3077</td>\n",
              "      <td>93.9394</td>\n",
              "      <td>94.1176</td>\n",
              "      <td>NaN</td>\n",
              "    </tr>\n",
              "  </tbody>\n",
              "</table>\n",
              "</div>"
            ],
            "text/plain": [
              "            NaiveBayes logistic regression  ...      SVM Ensemble\n",
              "Accuracy       94.8718             97.4359  ...  96.1538      NaN\n",
              "Specificity    97.6744             97.7778  ...  97.7273      NaN\n",
              "Precision      96.9697             96.9697  ...  96.9697      NaN\n",
              "Sensitivity    91.4286             96.9697  ...  94.1176      NaN\n",
              "\n",
              "[4 rows x 6 columns]"
            ]
          },
          "metadata": {
            "tags": []
          },
          "execution_count": 188
        }
      ]
    },
    {
      "cell_type": "markdown",
      "metadata": {
        "id": "Et-fcch72wZX"
      },
      "source": [
        "# Model Selection"
      ]
    },
    {
      "cell_type": "markdown",
      "metadata": {
        "id": "dRqa1LH_7jHf"
      },
      "source": [
        "In This study we try to select best model for coding/noncoding DNA detection by two methods:\n",
        "1. from built in outsource function from (https://scipy-lectures.org/packages/scikit-learn/index.html)\n",
        "2. aggergate above result from each model in new data frame called **df_result**"
      ]
    },
    {
      "cell_type": "code",
      "metadata": {
        "id": "Ky_aecXZ7iOx"
      },
      "source": [
        "# 1. outsourcing code"
      ],
      "execution_count": null,
      "outputs": []
    },
    {
      "cell_type": "code",
      "metadata": {
        "id": "HsEG_dpF2vEd",
        "colab": {
          "base_uri": "https://localhost:8080/"
        },
        "outputId": "195e97af-5e5c-444f-8492-d3bf7ec578b8"
      },
      "source": [
        "from sklearn import model_selection\n",
        "from sklearn import metrics\n",
        "for Model in [GaussianNB, LogisticRegression,KNeighborsClassifier,Perceptron,svm.LinearSVC]:\n",
        "    clfsa = Model().fit(X_train, y_train)\n",
        "    y_pred_model = clfsa.predict(X_test)\n",
        "    print('%s: %s' % \n",
        "          (Model.__name__, metrics.f1_score(y_pred_model, y_test, average=\"macro\"))) "
      ],
      "execution_count": 189,
      "outputs": [
        {
          "output_type": "stream",
          "text": [
            "GaussianNB: 0.9478609625668449\n",
            "LogisticRegression: 0.9737373737373738\n",
            "KNeighborsClassifier: 0.8203947368421052\n",
            "Perceptron: 0.9474747474747476\n",
            "LinearSVC: 0.9607580077142379\n"
          ],
          "name": "stdout"
        }
      ]
    },
    {
      "cell_type": "code",
      "metadata": {
        "id": "SLGIwNwK5Kjj"
      },
      "source": [
        "# 2. Create df_result to collect result on it:"
      ],
      "execution_count": null,
      "outputs": []
    },
    {
      "cell_type": "code",
      "metadata": {
        "id": "WCY1pWBU9Dn8",
        "colab": {
          "base_uri": "https://localhost:8080/",
          "height": 173
        },
        "outputId": "6ea942da-7695-44a1-87e9-7fd983f4f635"
      },
      "source": [
        "df_result_"
      ],
      "execution_count": 190,
      "outputs": [
        {
          "output_type": "execute_result",
          "data": {
            "text/html": [
              "<div>\n",
              "<style scoped>\n",
              "    .dataframe tbody tr th:only-of-type {\n",
              "        vertical-align: middle;\n",
              "    }\n",
              "\n",
              "    .dataframe tbody tr th {\n",
              "        vertical-align: top;\n",
              "    }\n",
              "\n",
              "    .dataframe thead th {\n",
              "        text-align: right;\n",
              "    }\n",
              "</style>\n",
              "<table border=\"1\" class=\"dataframe\">\n",
              "  <thead>\n",
              "    <tr style=\"text-align: right;\">\n",
              "      <th></th>\n",
              "      <th>NaiveBayes</th>\n",
              "      <th>logistic regression</th>\n",
              "      <th>KNN</th>\n",
              "      <th>Perceptron</th>\n",
              "      <th>SVM</th>\n",
              "      <th>Ensemble</th>\n",
              "    </tr>\n",
              "  </thead>\n",
              "  <tbody>\n",
              "    <tr>\n",
              "      <th>Accuracy</th>\n",
              "      <td>94.8718</td>\n",
              "      <td>97.4359</td>\n",
              "      <td>42.3077</td>\n",
              "      <td>94.8718</td>\n",
              "      <td>96.1538</td>\n",
              "      <td>NaN</td>\n",
              "    </tr>\n",
              "    <tr>\n",
              "      <th>Specificity</th>\n",
              "      <td>97.6744</td>\n",
              "      <td>97.7778</td>\n",
              "      <td>NaN</td>\n",
              "      <td>95.5556</td>\n",
              "      <td>97.7273</td>\n",
              "      <td>NaN</td>\n",
              "    </tr>\n",
              "    <tr>\n",
              "      <th>Precision</th>\n",
              "      <td>96.9697</td>\n",
              "      <td>96.9697</td>\n",
              "      <td>100</td>\n",
              "      <td>93.9394</td>\n",
              "      <td>96.9697</td>\n",
              "      <td>NaN</td>\n",
              "    </tr>\n",
              "    <tr>\n",
              "      <th>Sensitivity</th>\n",
              "      <td>91.4286</td>\n",
              "      <td>96.9697</td>\n",
              "      <td>42.3077</td>\n",
              "      <td>93.9394</td>\n",
              "      <td>94.1176</td>\n",
              "      <td>NaN</td>\n",
              "    </tr>\n",
              "  </tbody>\n",
              "</table>\n",
              "</div>"
            ],
            "text/plain": [
              "            NaiveBayes logistic regression  ...      SVM Ensemble\n",
              "Accuracy       94.8718             97.4359  ...  96.1538      NaN\n",
              "Specificity    97.6744             97.7778  ...  97.7273      NaN\n",
              "Precision      96.9697             96.9697  ...  96.9697      NaN\n",
              "Sensitivity    91.4286             96.9697  ...  94.1176      NaN\n",
              "\n",
              "[4 rows x 6 columns]"
            ]
          },
          "metadata": {
            "tags": []
          },
          "execution_count": 190
        }
      ]
    },
    {
      "cell_type": "markdown",
      "metadata": {
        "id": "izPFG5od9Tk7"
      },
      "source": [
        "## Merging the three best together(SVM,Logistic regression and Perceptron):"
      ]
    },
    {
      "cell_type": "code",
      "metadata": {
        "id": "MCcLjAwu9Sxu"
      },
      "source": [
        "from sklearn.ensemble import VotingClassifier\n",
        "combo = VotingClassifier([('lsvc', svm.LinearSVC()),\n",
        "                            ('lr', linear_model.LogisticRegression()),\n",
        "                            ('per', Perceptron())])"
      ],
      "execution_count": 191,
      "outputs": []
    },
    {
      "cell_type": "code",
      "metadata": {
        "id": "ZztljCjv_wJO",
        "colab": {
          "base_uri": "https://localhost:8080/"
        },
        "outputId": "87db832d-e989-403f-dd4e-7c89b2e7dea1"
      },
      "source": [
        "combo.fit(X_train, y_train)\n",
        "y_pre_combo= combo.predict(X_test)"
      ],
      "execution_count": 192,
      "outputs": [
        {
          "output_type": "execute_result",
          "data": {
            "text/plain": [
              "VotingClassifier(estimators=[('lsvc',\n",
              "                              LinearSVC(C=1.0, class_weight=None, dual=True,\n",
              "                                        fit_intercept=True, intercept_scaling=1,\n",
              "                                        loss='squared_hinge', max_iter=1000,\n",
              "                                        multi_class='ovr', penalty='l2',\n",
              "                                        random_state=None, tol=0.0001,\n",
              "                                        verbose=0)),\n",
              "                             ('lr',\n",
              "                              LogisticRegression(C=1.0, class_weight=None,\n",
              "                                                 dual=False, fit_intercept=True,\n",
              "                                                 intercept_scaling=1,\n",
              "                                                 l1_ratio=None, max_iter=1...\n",
              "                                                 solver='lbfgs', tol=0.0001,\n",
              "                                                 verbose=0, warm_start=False)),\n",
              "                             ('per',\n",
              "                              Perceptron(alpha=0.0001, class_weight=None,\n",
              "                                         early_stopping=False, eta0=1.0,\n",
              "                                         fit_intercept=True, max_iter=1000,\n",
              "                                         n_iter_no_change=5, n_jobs=None,\n",
              "                                         penalty=None, random_state=0,\n",
              "                                         shuffle=True, tol=0.001,\n",
              "                                         validation_fraction=0.1, verbose=0,\n",
              "                                         warm_start=False))],\n",
              "                 flatten_transform=True, n_jobs=None, voting='hard',\n",
              "                 weights=None)"
            ]
          },
          "metadata": {
            "tags": []
          },
          "execution_count": 192
        }
      ]
    },
    {
      "cell_type": "code",
      "metadata": {
        "id": "RRUXWs1_A4az",
        "colab": {
          "base_uri": "https://localhost:8080/"
        },
        "outputId": "2c0deb83-0ae3-4171-d66d-071ae56a6f0f"
      },
      "source": [
        "#Calculate Accuracy and Print it by method3\n",
        "accu_combo=(sum([1 for i, j in zip(y_pre_combo, y_test) if i == j])/len(y_test))*100\n",
        "print(\"Your Model Accuracy is\", accu_combo)"
      ],
      "execution_count": 193,
      "outputs": [
        {
          "output_type": "stream",
          "text": [
            "Your Model Accuracy is 97.43589743589743\n"
          ],
          "name": "stdout"
        }
      ]
    },
    {
      "cell_type": "code",
      "metadata": {
        "id": "wl2qoHV9A5Es",
        "colab": {
          "base_uri": "https://localhost:8080/"
        },
        "outputId": "67b2c297-174e-475b-dc62-47b8c46988a3"
      },
      "source": [
        "# confusion matrix\n",
        "os.chdir(home_path)\n",
        "from sklearn.metrics import confusion_matrix\n",
        "cm_combo=confusion_matrix(y_test,y_pre_combo)\n",
        "cm_combo"
      ],
      "execution_count": 194,
      "outputs": [
        {
          "output_type": "execute_result",
          "data": {
            "text/plain": [
              "array([[32,  1],\n",
              "       [ 1, 44]])"
            ]
          },
          "metadata": {
            "tags": []
          },
          "execution_count": 194
        }
      ]
    },
    {
      "cell_type": "code",
      "metadata": {
        "id": "eTa-s76wA5Ap",
        "colab": {
          "base_uri": "https://localhost:8080/"
        },
        "outputId": "15bc0f41-1b67-45d1-9b4a-71787dae5b56"
      },
      "source": [
        "#Sensitivity_(True positive rate TPR) \n",
        "TP_combo= cm_combo[0][0]\n",
        "FN_combo= cm_combo[1][0]\n",
        "TPR_combo= TP_combo/(TP_combo+FN_combo) * 100\n",
        "print(\"Sensitivity \"+str(TPR_combo)+'%')"
      ],
      "execution_count": 195,
      "outputs": [
        {
          "output_type": "stream",
          "text": [
            "Sensitivity 96.96969696969697%\n"
          ],
          "name": "stdout"
        }
      ]
    },
    {
      "cell_type": "code",
      "metadata": {
        "id": "Pe3KSPr8BNR1",
        "colab": {
          "base_uri": "https://localhost:8080/"
        },
        "outputId": "9d59de80-ebaf-459e-a0b5-88a6f64ce9be"
      },
      "source": [
        "#Specificity(Total Negative Result TNR)\n",
        "TN_combo= cm_combo[1][1]\n",
        "FP_combo= cm_combo[0][1] \n",
        "TNR_combo = TN_combo/(TN_combo+FP_combo) * 100\n",
        "print(\"Specificity \"+str(TNR_combo)+'%')"
      ],
      "execution_count": 196,
      "outputs": [
        {
          "output_type": "stream",
          "text": [
            "Specificity 97.77777777777777%\n"
          ],
          "name": "stdout"
        }
      ]
    },
    {
      "cell_type": "code",
      "metadata": {
        "id": "kBD5fg00A48o",
        "colab": {
          "base_uri": "https://localhost:8080/"
        },
        "outputId": "eb9d8acc-918e-40d8-c3d1-78d44189bd43"
      },
      "source": [
        "percision_combo=(TP_combo/(TP_combo+FP_svm))*100\n",
        "percision_combo"
      ],
      "execution_count": 197,
      "outputs": [
        {
          "output_type": "execute_result",
          "data": {
            "text/plain": [
              "96.96969696969697"
            ]
          },
          "metadata": {
            "tags": []
          },
          "execution_count": 197
        }
      ]
    },
    {
      "cell_type": "code",
      "metadata": {
        "id": "Uzx8qWqQBaM5",
        "colab": {
          "base_uri": "https://localhost:8080/",
          "height": 298
        },
        "outputId": "3f83593b-1197-4a35-d037-a3313be298c2"
      },
      "source": [
        "os.chdir(home_path)\n",
        "cm_picture6=sn.heatmap(pd.DataFrame(cm_combo),cmap=\"Blues\", annot=True)\n",
        "figure6 = cm_picture6.get_figure()   \n",
        "plt.title(\"Confusion Matrix COMBO (SVM+Logistic+Perceptron)\")\n",
        "figure6.savefig('/content/drive/My Drive/project/CGR_data/Confusion_combo.jpg', dpi=400)"
      ],
      "execution_count": 198,
      "outputs": [
        {
          "output_type": "execute_result",
          "data": {
            "text/plain": [
              "Text(0.5, 1.0, 'Confusion Matrix COMBO (SVM+Logistic+Perceptron)')"
            ]
          },
          "metadata": {
            "tags": []
          },
          "execution_count": 198
        },
        {
          "output_type": "display_data",
          "data": {
            "image/png": "[encoded data removed]",
            "text/plain": [
              "<Figure size 432x288 with 2 Axes>"
            ]
          },
          "metadata": {
            "tags": [],
            "needs_background": "light"
          }
        }
      ]
    },
    {
      "cell_type": "code",
      "metadata": {
        "id": "CPJtBAnbBlRB",
        "colab": {
          "base_uri": "https://localhost:8080/"
        },
        "outputId": "1e300e6c-60c7-436b-942a-e012ea233260"
      },
      "source": [
        "# calculating the mean R^2 for a set of predictions:\n",
        "results_combo = cross_val_score(combo, X_train, y_train,cv=None)*100\n",
        "results_combo"
      ],
      "execution_count": 199,
      "outputs": [
        {
          "output_type": "stream",
          "text": [
            "/usr/local/lib/python3.6/dist-packages/sklearn/svm/_base.py:947: ConvergenceWarning: Liblinear failed to converge, increase the number of iterations.\n",
            "  \"the number of iterations.\", ConvergenceWarning)\n",
            "/usr/local/lib/python3.6/dist-packages/sklearn/svm/_base.py:947: ConvergenceWarning: Liblinear failed to converge, increase the number of iterations.\n",
            "  \"the number of iterations.\", ConvergenceWarning)\n"
          ],
          "name": "stderr"
        },
        {
          "output_type": "execute_result",
          "data": {
            "text/plain": [
              "array([100.        ,  98.41269841, 100.        ,  95.16129032,\n",
              "       100.        ])"
            ]
          },
          "metadata": {
            "tags": []
          },
          "execution_count": 199
        }
      ]
    },
    {
      "cell_type": "code",
      "metadata": {
        "id": "2offpAx23OJm",
        "colab": {
          "base_uri": "https://localhost:8080/",
          "height": 204
        },
        "outputId": "0a554c1f-a3b6-441f-b70a-e1fe781bdf4b"
      },
      "source": [
        "acc_cross_validation['Ensemble']=results_svm\n",
        "acc_cross_validation"
      ],
      "execution_count": 200,
      "outputs": [
        {
          "output_type": "execute_result",
          "data": {
            "text/html": [
              "<div>\n",
              "<style scoped>\n",
              "    .dataframe tbody tr th:only-of-type {\n",
              "        vertical-align: middle;\n",
              "    }\n",
              "\n",
              "    .dataframe tbody tr th {\n",
              "        vertical-align: top;\n",
              "    }\n",
              "\n",
              "    .dataframe thead th {\n",
              "        text-align: right;\n",
              "    }\n",
              "</style>\n",
              "<table border=\"1\" class=\"dataframe\">\n",
              "  <thead>\n",
              "    <tr style=\"text-align: right;\">\n",
              "      <th></th>\n",
              "      <th>NaiveBayes</th>\n",
              "      <th>logistic regression</th>\n",
              "      <th>KNN</th>\n",
              "      <th>Perceptron</th>\n",
              "      <th>SVM</th>\n",
              "      <th>Ensemble</th>\n",
              "    </tr>\n",
              "  </thead>\n",
              "  <tbody>\n",
              "    <tr>\n",
              "      <th>0</th>\n",
              "      <td>95.238095</td>\n",
              "      <td>100.000000</td>\n",
              "      <td>53.968254</td>\n",
              "      <td>93.650794</td>\n",
              "      <td>96.825397</td>\n",
              "      <td>96.825397</td>\n",
              "    </tr>\n",
              "    <tr>\n",
              "      <th>1</th>\n",
              "      <td>93.650794</td>\n",
              "      <td>98.412698</td>\n",
              "      <td>53.968254</td>\n",
              "      <td>96.825397</td>\n",
              "      <td>96.825397</td>\n",
              "      <td>96.825397</td>\n",
              "    </tr>\n",
              "    <tr>\n",
              "      <th>2</th>\n",
              "      <td>82.258065</td>\n",
              "      <td>100.000000</td>\n",
              "      <td>53.225806</td>\n",
              "      <td>91.935484</td>\n",
              "      <td>100.000000</td>\n",
              "      <td>100.000000</td>\n",
              "    </tr>\n",
              "    <tr>\n",
              "      <th>3</th>\n",
              "      <td>90.322581</td>\n",
              "      <td>95.161290</td>\n",
              "      <td>53.225806</td>\n",
              "      <td>96.774194</td>\n",
              "      <td>96.774194</td>\n",
              "      <td>96.774194</td>\n",
              "    </tr>\n",
              "    <tr>\n",
              "      <th>4</th>\n",
              "      <td>85.483871</td>\n",
              "      <td>98.387097</td>\n",
              "      <td>53.225806</td>\n",
              "      <td>95.161290</td>\n",
              "      <td>95.161290</td>\n",
              "      <td>95.161290</td>\n",
              "    </tr>\n",
              "  </tbody>\n",
              "</table>\n",
              "</div>"
            ],
            "text/plain": [
              "   NaiveBayes  logistic regression  ...         SVM    Ensemble\n",
              "0   95.238095           100.000000  ...   96.825397   96.825397\n",
              "1   93.650794            98.412698  ...   96.825397   96.825397\n",
              "2   82.258065           100.000000  ...  100.000000  100.000000\n",
              "3   90.322581            95.161290  ...   96.774194   96.774194\n",
              "4   85.483871            98.387097  ...   95.161290   95.161290\n",
              "\n",
              "[5 rows x 6 columns]"
            ]
          },
          "metadata": {
            "tags": []
          },
          "execution_count": 200
        }
      ]
    },
    {
      "cell_type": "code",
      "metadata": {
        "id": "gWuotYkLDKXP",
        "colab": {
          "base_uri": "https://localhost:8080/",
          "height": 173
        },
        "outputId": "6fd3b5d5-d11e-462b-ddbb-51c4a66e0f0f"
      },
      "source": [
        "df_result_['Ensemble']=pd.Series({'Accuracy':accu_combo,'Cross_Validation':results_combo,'Confusion_Matrix':cm_combo,'Sensitivity':TPR_combo,'Specificity':TNR_combo,'Precision':percision_combo})\n",
        "\n",
        "df_result_"
      ],
      "execution_count": 201,
      "outputs": [
        {
          "output_type": "execute_result",
          "data": {
            "text/html": [
              "<div>\n",
              "<style scoped>\n",
              "    .dataframe tbody tr th:only-of-type {\n",
              "        vertical-align: middle;\n",
              "    }\n",
              "\n",
              "    .dataframe tbody tr th {\n",
              "        vertical-align: top;\n",
              "    }\n",
              "\n",
              "    .dataframe thead th {\n",
              "        text-align: right;\n",
              "    }\n",
              "</style>\n",
              "<table border=\"1\" class=\"dataframe\">\n",
              "  <thead>\n",
              "    <tr style=\"text-align: right;\">\n",
              "      <th></th>\n",
              "      <th>NaiveBayes</th>\n",
              "      <th>logistic regression</th>\n",
              "      <th>KNN</th>\n",
              "      <th>Perceptron</th>\n",
              "      <th>SVM</th>\n",
              "      <th>Ensemble</th>\n",
              "    </tr>\n",
              "  </thead>\n",
              "  <tbody>\n",
              "    <tr>\n",
              "      <th>Accuracy</th>\n",
              "      <td>94.8718</td>\n",
              "      <td>97.4359</td>\n",
              "      <td>42.3077</td>\n",
              "      <td>94.8718</td>\n",
              "      <td>96.1538</td>\n",
              "      <td>97.4359</td>\n",
              "    </tr>\n",
              "    <tr>\n",
              "      <th>Specificity</th>\n",
              "      <td>97.6744</td>\n",
              "      <td>97.7778</td>\n",
              "      <td>NaN</td>\n",
              "      <td>95.5556</td>\n",
              "      <td>97.7273</td>\n",
              "      <td>97.7778</td>\n",
              "    </tr>\n",
              "    <tr>\n",
              "      <th>Precision</th>\n",
              "      <td>96.9697</td>\n",
              "      <td>96.9697</td>\n",
              "      <td>100</td>\n",
              "      <td>93.9394</td>\n",
              "      <td>96.9697</td>\n",
              "      <td>96.9697</td>\n",
              "    </tr>\n",
              "    <tr>\n",
              "      <th>Sensitivity</th>\n",
              "      <td>91.4286</td>\n",
              "      <td>96.9697</td>\n",
              "      <td>42.3077</td>\n",
              "      <td>93.9394</td>\n",
              "      <td>94.1176</td>\n",
              "      <td>96.9697</td>\n",
              "    </tr>\n",
              "  </tbody>\n",
              "</table>\n",
              "</div>"
            ],
            "text/plain": [
              "            NaiveBayes logistic regression  ...      SVM Ensemble\n",
              "Accuracy       94.8718             97.4359  ...  96.1538  97.4359\n",
              "Specificity    97.6744             97.7778  ...  97.7273  97.7778\n",
              "Precision      96.9697             96.9697  ...  96.9697  96.9697\n",
              "Sensitivity    91.4286             96.9697  ...  94.1176  96.9697\n",
              "\n",
              "[4 rows x 6 columns]"
            ]
          },
          "metadata": {
            "tags": []
          },
          "execution_count": 201
        }
      ]
    },
    {
      "cell_type": "code",
      "metadata": {
        "id": "0x-y3qm9A83n",
        "colab": {
          "base_uri": "https://localhost:8080/",
          "height": 485
        },
        "outputId": "e9f2632f-305c-4755-a8b5-9ddcfba76bff"
      },
      "source": [
        "# bar plot of cross validation for each Models\n",
        "index=['first fold', 'second fold', 'third fold', 'fourth fold', 'fifth fold']\n",
        "df_cross=acc_cross_validation.copy()\n",
        "df_cross.index=index\n",
        "df_cross\n",
        "#df_cross = pd.DataFrame({'NaiveBayes': Cross_Validation_nav,'logistic':Cross_Validation_log,'KNN': Cross_Validation_knn,'Perceptron':Cross_Validation_per,'SVM': Cross_Validation_svm,'Combination':Cross_Validation_combo}, index=index)\n",
        "axx = df_cross.plot.bar(rot=0)\n",
        "figure7 = axx.get_figure()   \n",
        "plt.title(\"Cross Validatio summary\")\n",
        "figure7.savefig('/content/drive/My Drive/project/CGR_data/Cross_Validatio_summary.jpg', dpi=400)"
      ],
      "execution_count": 202,
      "outputs": [
        {
          "output_type": "execute_result",
          "data": {
            "text/html": [
              "<div>\n",
              "<style scoped>\n",
              "    .dataframe tbody tr th:only-of-type {\n",
              "        vertical-align: middle;\n",
              "    }\n",
              "\n",
              "    .dataframe tbody tr th {\n",
              "        vertical-align: top;\n",
              "    }\n",
              "\n",
              "    .dataframe thead th {\n",
              "        text-align: right;\n",
              "    }\n",
              "</style>\n",
              "<table border=\"1\" class=\"dataframe\">\n",
              "  <thead>\n",
              "    <tr style=\"text-align: right;\">\n",
              "      <th></th>\n",
              "      <th>NaiveBayes</th>\n",
              "      <th>logistic regression</th>\n",
              "      <th>KNN</th>\n",
              "      <th>Perceptron</th>\n",
              "      <th>SVM</th>\n",
              "      <th>Ensemble</th>\n",
              "    </tr>\n",
              "  </thead>\n",
              "  <tbody>\n",
              "    <tr>\n",
              "      <th>first fold</th>\n",
              "      <td>95.238095</td>\n",
              "      <td>100.000000</td>\n",
              "      <td>53.968254</td>\n",
              "      <td>93.650794</td>\n",
              "      <td>96.825397</td>\n",
              "      <td>96.825397</td>\n",
              "    </tr>\n",
              "    <tr>\n",
              "      <th>second fold</th>\n",
              "      <td>93.650794</td>\n",
              "      <td>98.412698</td>\n",
              "      <td>53.968254</td>\n",
              "      <td>96.825397</td>\n",
              "      <td>96.825397</td>\n",
              "      <td>96.825397</td>\n",
              "    </tr>\n",
              "    <tr>\n",
              "      <th>third fold</th>\n",
              "      <td>82.258065</td>\n",
              "      <td>100.000000</td>\n",
              "      <td>53.225806</td>\n",
              "      <td>91.935484</td>\n",
              "      <td>100.000000</td>\n",
              "      <td>100.000000</td>\n",
              "    </tr>\n",
              "    <tr>\n",
              "      <th>fourth fold</th>\n",
              "      <td>90.322581</td>\n",
              "      <td>95.161290</td>\n",
              "      <td>53.225806</td>\n",
              "      <td>96.774194</td>\n",
              "      <td>96.774194</td>\n",
              "      <td>96.774194</td>\n",
              "    </tr>\n",
              "    <tr>\n",
              "      <th>fifth fold</th>\n",
              "      <td>85.483871</td>\n",
              "      <td>98.387097</td>\n",
              "      <td>53.225806</td>\n",
              "      <td>95.161290</td>\n",
              "      <td>95.161290</td>\n",
              "      <td>95.161290</td>\n",
              "    </tr>\n",
              "  </tbody>\n",
              "</table>\n",
              "</div>"
            ],
            "text/plain": [
              "             NaiveBayes  logistic regression  ...         SVM    Ensemble\n",
              "first fold    95.238095           100.000000  ...   96.825397   96.825397\n",
              "second fold   93.650794            98.412698  ...   96.825397   96.825397\n",
              "third fold    82.258065           100.000000  ...  100.000000  100.000000\n",
              "fourth fold   90.322581            95.161290  ...   96.774194   96.774194\n",
              "fifth fold    85.483871            98.387097  ...   95.161290   95.161290\n",
              "\n",
              "[5 rows x 6 columns]"
            ]
          },
          "metadata": {
            "tags": []
          },
          "execution_count": 202
        },
        {
          "output_type": "execute_result",
          "data": {
            "text/plain": [
              "Text(0.5, 1.0, 'Cross Validatio summary')"
            ]
          },
          "metadata": {
            "tags": []
          },
          "execution_count": 202
        },
        {
          "output_type": "display_data",
          "data": {
            "image/png": "[encoded data removed]",
            "text/plain": [
              "<Figure size 432x288 with 1 Axes>"
            ]
          },
          "metadata": {
            "tags": [],
            "needs_background": "light"
          }
        }
      ]
    },
    {
      "cell_type": "code",
      "metadata": {
        "id": "vTbvuVQZzRD9",
        "colab": {
          "base_uri": "https://localhost:8080/",
          "height": 990
        },
        "outputId": "19672515-30a9-4747-fbd3-51d6e43e655c"
      },
      "source": [
        "fig = plt.figure()\n",
        "fig.suptitle('Model Comparison')\n",
        "ax = fig.add_subplot(111)\n",
        "plt.boxplot(acc_cross_validation)\n",
        "ax.set_xticklabels(df_resultcol,rotation=10)\n",
        "plt.show()\n",
        "fig.savefig('/content/drive/My Drive/project/CGR_data/Model_Comparison.jpg', dpi=400)"
      ],
      "execution_count": 203,
      "outputs": [
        {
          "output_type": "execute_result",
          "data": {
            "text/plain": [
              "Text(0.5, 0.98, 'Model Comparison')"
            ]
          },
          "metadata": {
            "tags": []
          },
          "execution_count": 203
        },
        {
          "output_type": "execute_result",
          "data": {
            "text/plain": [
              "{'boxes': [<matplotlib.lines.Line2D at 0x7f219e626470>,\n",
              "  <matplotlib.lines.Line2D at 0x7f219e5b5be0>,\n",
              "  <matplotlib.lines.Line2D at 0x7f219e5cb4e0>,\n",
              "  <matplotlib.lines.Line2D at 0x7f219e5d6da0>,\n",
              "  <matplotlib.lines.Line2D at 0x7f219e56c6a0>],\n",
              " 'caps': [<matplotlib.lines.Line2D at 0x7f219e626dd8>,\n",
              "  <matplotlib.lines.Line2D at 0x7f219e5b5198>,\n",
              "  <matplotlib.lines.Line2D at 0x7f219e5bf6d8>,\n",
              "  <matplotlib.lines.Line2D at 0x7f219e5bfa58>,\n",
              "  <matplotlib.lines.Line2D at 0x7f219e5cbf98>,\n",
              "  <matplotlib.lines.Line2D at 0x7f219e5d6358>,\n",
              "  <matplotlib.lines.Line2D at 0x7f219e5e0898>,\n",
              "  <matplotlib.lines.Line2D at 0x7f219e5e0c18>,\n",
              "  <matplotlib.lines.Line2D at 0x7f219e578198>,\n",
              "  <matplotlib.lines.Line2D at 0x7f219e578518>],\n",
              " 'fliers': [<matplotlib.lines.Line2D at 0x7f219e5b5898>,\n",
              "  <matplotlib.lines.Line2D at 0x7f219e5cb198>,\n",
              "  <matplotlib.lines.Line2D at 0x7f219e5d6a58>,\n",
              "  <matplotlib.lines.Line2D at 0x7f219e56c358>,\n",
              "  <matplotlib.lines.Line2D at 0x7f219e578c18>],\n",
              " 'means': [],\n",
              " 'medians': [<matplotlib.lines.Line2D at 0x7f219e5b5518>,\n",
              "  <matplotlib.lines.Line2D at 0x7f219e5bfdd8>,\n",
              "  <matplotlib.lines.Line2D at 0x7f219e5d66d8>,\n",
              "  <matplotlib.lines.Line2D at 0x7f219e5e0f98>,\n",
              "  <matplotlib.lines.Line2D at 0x7f219e578898>],\n",
              " 'whiskers': [<matplotlib.lines.Line2D at 0x7f219e6266d8>,\n",
              "  <matplotlib.lines.Line2D at 0x7f219e626a58>,\n",
              "  <matplotlib.lines.Line2D at 0x7f219e5b5f98>,\n",
              "  <matplotlib.lines.Line2D at 0x7f219e5bf358>,\n",
              "  <matplotlib.lines.Line2D at 0x7f219e5cb898>,\n",
              "  <matplotlib.lines.Line2D at 0x7f219e5cbc18>,\n",
              "  <matplotlib.lines.Line2D at 0x7f219e5e0198>,\n",
              "  <matplotlib.lines.Line2D at 0x7f219e5e0518>,\n",
              "  <matplotlib.lines.Line2D at 0x7f219e56ca58>,\n",
              "  <matplotlib.lines.Line2D at 0x7f219e56cdd8>]}"
            ]
          },
          "metadata": {
            "tags": []
          },
          "execution_count": 203
        },
        {
          "output_type": "execute_result",
          "data": {
            "text/plain": [
              "[Text(0, 0, 'NaiveBayes'),\n",
              " Text(0, 0, 'logistic regression'),\n",
              " Text(0, 0, 'KNN'),\n",
              " Text(0, 0, 'Perceptron'),\n",
              " Text(0, 0, 'SVM')]"
            ]
          },
          "metadata": {
            "tags": []
          },
          "execution_count": 203
        },
        {
          "output_type": "display_data",
          "data": {
            "image/png": "[encoded data removed]",
            "text/plain": [
              "<Figure size 432x288 with 1 Axes>"
            ]
          },
          "metadata": {
            "tags": [],
            "needs_background": "light"
          }
        }
      ]
    },
    {
      "cell_type": "code",
      "metadata": {
        "id": "X7i3Lu2ZLgbP",
        "colab": {
          "base_uri": "https://localhost:8080/",
          "height": 314
        },
        "outputId": "32ae3201-7ad5-41c0-e206-96de1edf8a71"
      },
      "source": [
        "Accuracy=df_result.loc['Accuracy']\n",
        "Sensitivity=df_result.loc['Sensitivity'] # Recall\n",
        "Specificity=df_result.loc['Specificity']\n",
        "Precision=df_result.loc['Precision']\n",
        "index2=['NaiveBayes','logistic regression', 'KNN', 'Perceptron', 'SVM','Combination']\n",
        "df2 = pd.DataFrame({'Accuracy': Accuracy,'Precision':Precision,'Specificity': Specificity,'Sensitivity': Sensitivity}, index=index2)\n",
        "ax2 = df2.plot.bar(rot=10)\n",
        "figure8 = ax2.get_figure()   \n",
        "plt.title(\"Summary\")\n",
        "figure8.savefig('/content/drive/My Drive/project/CGR_data/Summary.jpg', dpi=400)"
      ],
      "execution_count": 204,
      "outputs": [
        {
          "output_type": "execute_result",
          "data": {
            "text/plain": [
              "Text(0.5, 1.0, 'Summary')"
            ]
          },
          "metadata": {
            "tags": []
          },
          "execution_count": 204
        },
        {
          "output_type": "display_data",
          "data": {
            "image/png": "[encoded data removed]",
            "text/plain": [
              "<Figure size 432x288 with 1 Axes>"
            ]
          },
          "metadata": {
            "tags": [],
            "needs_background": "light"
          }
        }
      ]
    },
    {
      "cell_type": "code",
      "metadata": {
        "id": "jH1QT93U_cfn",
        "colab": {
          "base_uri": "https://localhost:8080/"
        },
        "outputId": "2d01e56d-696e-40ce-c17f-f53ad9747a17"
      },
      "source": [
        "print('Duration: {} seconds'.format(time.time() - start))"
      ],
      "execution_count": 205,
      "outputs": [
        {
          "output_type": "stream",
          "text": [
            "Duration: 265.548885345459 seconds\n"
          ],
          "name": "stdout"
        }
      ]
    }
  ]
}